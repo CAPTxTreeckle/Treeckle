{
 "cells": [
  {
   "cell_type": "code",
   "execution_count": 2,
   "metadata": {},
   "outputs": [
    {
     "name": "stdout",
     "output_type": "stream",
     "text": [
      "\u001b[39m\u001b[22mShell for\u001b[39m\u001b[22m \u001b[32m\u001b[1m/home/subbash/.local/share/virtualenvs/Recommendation-AqPCIDG6\u001b[39m\u001b[22m \u001b[39m\u001b[1malready activated.\u001b[39m\u001b[22m\r\n",
      "No action taken to avoid nested environments.\r\n",
      "\u001b[0m"
     ]
    }
   ],
   "source": [
    "!pipenv shell"
   ]
  },
  {
   "cell_type": "code",
   "execution_count": 1,
   "metadata": {},
   "outputs": [
    {
     "ename": "ModuleNotFoundError",
     "evalue": "No module named 'scrapy'",
     "output_type": "error",
     "traceback": [
      "\u001b[0;31m---------------------------------------------------------------------------\u001b[0m",
      "\u001b[0;31mModuleNotFoundError\u001b[0m                       Traceback (most recent call last)",
      "\u001b[0;32m<ipython-input-1-1b87ac4d50dd>\u001b[0m in \u001b[0;36m<module>\u001b[0;34m()\u001b[0m\n\u001b[0;32m----> 1\u001b[0;31m \u001b[0;32mimport\u001b[0m \u001b[0mscrapy\u001b[0m\u001b[0;34m\u001b[0m\u001b[0;34m\u001b[0m\u001b[0m\n\u001b[0m\u001b[1;32m      2\u001b[0m \u001b[0;32mimport\u001b[0m \u001b[0mrequests\u001b[0m\u001b[0;34m\u001b[0m\u001b[0;34m\u001b[0m\u001b[0m\n\u001b[1;32m      3\u001b[0m \u001b[0;32mfrom\u001b[0m \u001b[0mscrapy\u001b[0m\u001b[0;34m.\u001b[0m\u001b[0mhttp\u001b[0m \u001b[0;32mimport\u001b[0m \u001b[0mTextResponse\u001b[0m\u001b[0;34m\u001b[0m\u001b[0;34m\u001b[0m\u001b[0m\n\u001b[1;32m      4\u001b[0m \u001b[0;32mfrom\u001b[0m \u001b[0mscrapy\u001b[0m \u001b[0;32mimport\u001b[0m \u001b[0mSelector\u001b[0m\u001b[0;34m\u001b[0m\u001b[0;34m\u001b[0m\u001b[0m\n\u001b[1;32m      5\u001b[0m \u001b[0;32mimport\u001b[0m \u001b[0mcsv\u001b[0m\u001b[0;34m\u001b[0m\u001b[0;34m\u001b[0m\u001b[0m\n",
      "\u001b[0;31mModuleNotFoundError\u001b[0m: No module named 'scrapy'"
     ]
    }
   ],
   "source": [
    "import scrapy\n",
    "import requests\n",
    "from scrapy.http import TextResponse\n",
    "from scrapy import Selector\n",
    "import csv\n",
    "import pandas as pd\n",
    "from rake_nltk import Rake\n",
    "import numpy as np\n",
    "import html\n",
    "import xml\n",
    "import re\n",
    "import string\n",
    "from sklearn.metrics.pairwise import cosine_similarity\n",
    "from sklearn.feature_extraction.text import CountVectorizer, TfidfVectorizer\n",
    "from random import randint"
   ]
  },
  {
   "cell_type": "code",
   "execution_count": 5,
   "metadata": {},
   "outputs": [],
   "source": [
    "from IPython.display import Markdown, display\n",
    "def printmd(string):\n",
    "    display(Markdown(string))"
   ]
  },
  {
   "cell_type": "markdown",
   "metadata": {
    "heading_collapsed": true
   },
   "source": [
    "# Scraping"
   ]
  },
  {
   "cell_type": "code",
   "execution_count": 6,
   "metadata": {
    "hidden": true
   },
   "outputs": [
    {
     "name": "stdout",
     "output_type": "stream",
     "text": [
      " environment.yml        node_modules\t    Pipfile\r\n",
      " express_crash_course   package.json\t    predict.py\r\n",
      " index.js\t        package-lock.json  'Prototype local.ipynb'\r\n"
     ]
    }
   ],
   "source": [
    "!ls"
   ]
  },
  {
   "cell_type": "code",
   "execution_count": 24,
   "metadata": {
    "hidden": true
   },
   "outputs": [],
   "source": [
    "res = requests.get('https://www.timeout.com/singapore/restaurants/the-50-best-restaurants-in-singapore')\n",
    "response = TextResponse(res.url, body=res.text, encoding='utf-8')\n",
    "\n",
    "#with open(\"Upcoming Music Festivals And Concerts In Singapore 2019.html\") as f:\n",
    "#    page = f.read()\n",
    "\n",
    "#response = TextResponse('Source', body=page, encoding='utf-8')\n",
    "#response\n"
   ]
  },
  {
   "cell_type": "code",
   "execution_count": 25,
   "metadata": {
    "hidden": true
   },
   "outputs": [],
   "source": [
    "titles1 = response.xpath('//*[@id=\"content\"]/article/div/div[2]/div[1]/div/div/article/div[2]/header/h3/a/text()')\n",
    "#titles1.getall()"
   ]
  },
  {
   "cell_type": "code",
   "execution_count": 26,
   "metadata": {
    "hidden": true
   },
   "outputs": [
    {
     "data": {
      "text/plain": [
       "[<Selector xpath=None data='<html><body><article class=\"listCard ...'>,\n",
       " <Selector xpath=None data='<html><body><article class=\"listCard ...'>,\n",
       " <Selector xpath=None data='<html><body><article class=\"listCard ...'>,\n",
       " <Selector xpath=None data='<html><body><article class=\"listCard ...'>,\n",
       " <Selector xpath=None data='<html><body><article class=\"listCard ...'>,\n",
       " <Selector xpath=None data='<html><body><article class=\"listCard ...'>,\n",
       " <Selector xpath=None data='<html><body><article class=\"listCard ...'>,\n",
       " <Selector xpath=None data='<html><body><article class=\"listCard ...'>,\n",
       " <Selector xpath=None data='<html><body><article class=\"listCard ...'>,\n",
       " <Selector xpath=None data='<html><body><article class=\"listCard ...'>,\n",
       " <Selector xpath=None data='<html><body><article class=\"listCard ...'>,\n",
       " <Selector xpath=None data='<html><body><article class=\"listCard ...'>,\n",
       " <Selector xpath=None data='<html><body><article class=\"listCard ...'>,\n",
       " <Selector xpath=None data='<html><body><article class=\"listCard ...'>,\n",
       " <Selector xpath=None data='<html><body><article class=\"listCard ...'>,\n",
       " <Selector xpath=None data='<html><body><article class=\"listCard ...'>,\n",
       " <Selector xpath=None data='<html><body><article class=\"listCard ...'>,\n",
       " <Selector xpath=None data='<html><body><article class=\"listCard ...'>,\n",
       " <Selector xpath=None data='<html><body><article class=\"listCard ...'>,\n",
       " <Selector xpath=None data='<html><body><article class=\"listCard ...'>,\n",
       " <Selector xpath=None data='<html><body><article class=\"listCard ...'>,\n",
       " <Selector xpath=None data='<html><body><article class=\"listCard ...'>,\n",
       " <Selector xpath=None data='<html><body><article class=\"listCard ...'>,\n",
       " <Selector xpath=None data='<html><body><article class=\"listCard ...'>,\n",
       " <Selector xpath=None data='<html><body><article class=\"listCard ...'>,\n",
       " <Selector xpath=None data='<html><body><article class=\"listCard ...'>,\n",
       " <Selector xpath=None data='<html><body><article class=\"listCard ...'>,\n",
       " <Selector xpath=None data='<html><body><article class=\"listCard ...'>,\n",
       " <Selector xpath=None data='<html><body><article class=\"listCard ...'>,\n",
       " <Selector xpath=None data='<html><body><article class=\"listCard ...'>,\n",
       " <Selector xpath=None data='<html><body><article class=\"listCard ...'>,\n",
       " <Selector xpath=None data='<html><body><article class=\"listCard ...'>,\n",
       " <Selector xpath=None data='<html><body><article class=\"listCard ...'>,\n",
       " <Selector xpath=None data='<html><body><article class=\"listCard ...'>,\n",
       " <Selector xpath=None data='<html><body><article class=\"listCard ...'>,\n",
       " <Selector xpath=None data='<html><body><article class=\"listCard ...'>,\n",
       " <Selector xpath=None data='<html><body><article class=\"listCard ...'>,\n",
       " <Selector xpath=None data='<html><body><article class=\"listCard ...'>,\n",
       " <Selector xpath=None data='<html><body><article class=\"listCard ...'>,\n",
       " <Selector xpath=None data='<html><body><article class=\"listCard ...'>,\n",
       " <Selector xpath=None data='<html><body><article class=\"listCard ...'>,\n",
       " <Selector xpath=None data='<html><body><article class=\"listCard ...'>,\n",
       " <Selector xpath=None data='<html><body><article class=\"listCard ...'>,\n",
       " <Selector xpath=None data='<html><body><article class=\"listCard ...'>,\n",
       " <Selector xpath=None data='<html><body><article class=\"listCard ...'>,\n",
       " <Selector xpath=None data='<html><body><article class=\"listCard ...'>,\n",
       " <Selector xpath=None data='<html><body><article class=\"listCard ...'>,\n",
       " <Selector xpath=None data='<html><body><article class=\"listCard ...'>,\n",
       " <Selector xpath=None data='<html><body><article class=\"listCard ...'>,\n",
       " <Selector xpath=None data='<html><body><article class=\"listCard ...'>,\n",
       " <Selector xpath=None data='<html><body><article class=\"listCard ...'>,\n",
       " <Selector xpath=None data='<html><body><article class=\"listCard ...'>,\n",
       " <Selector xpath=None data='<html><body><article class=\"listCard ...'>,\n",
       " <Selector xpath=None data='<html><body><article class=\"listCard ...'>,\n",
       " <Selector xpath=None data='<html><body><article class=\"listCard ...'>]"
      ]
     },
     "execution_count": 26,
     "metadata": {},
     "output_type": "execute_result"
    }
   ],
   "source": [
    "articles = response.xpath('//*[@id=\"content\"]/article/div/div[2]/div[1]/div/div/article')\n",
    "y = [Selector(text=i.get()) for i in articles]\n",
    "y"
   ]
  },
  {
   "cell_type": "code",
   "execution_count": 27,
   "metadata": {
    "hidden": true
   },
   "outputs": [
    {
     "data": {
      "text/plain": [
       "55"
      ]
     },
     "execution_count": 27,
     "metadata": {},
     "output_type": "execute_result"
    }
   ],
   "source": [
    "des = [i.xpath('//p').getall() for i in y] \n",
    "len(des)"
   ]
  },
  {
   "cell_type": "code",
   "execution_count": 28,
   "metadata": {
    "hidden": true
   },
   "outputs": [
    {
     "data": {
      "text/plain": [
       "55"
      ]
     },
     "execution_count": 28,
     "metadata": {},
     "output_type": "execute_result"
    }
   ],
   "source": [
    "titles2 = [i.xpath('//h3//text()').getall() for i in y] \n",
    "len(titles2)"
   ]
  },
  {
   "cell_type": "code",
   "execution_count": 29,
   "metadata": {
    "hidden": true
   },
   "outputs": [
    {
     "data": {
      "text/plain": [
       "['\\n                    ',\n",
       " '\\n                New Ubin Zhongshan Park\\n            ',\n",
       " '\\n            ']"
      ]
     },
     "execution_count": 29,
     "metadata": {},
     "output_type": "execute_result"
    }
   ],
   "source": [
    "titles2[4]"
   ]
  },
  {
   "cell_type": "code",
   "execution_count": 30,
   "metadata": {
    "hidden": true
   },
   "outputs": [
    {
     "data": {
      "text/plain": [
       "[\"<p>Opening its third outlet on the island and first hotel restaurant, New Ubin Group is quickly solidifying itself as Singapore's zi\\xa0char king. It's built a reputation\\xa0of serving hearty local favourites as well as some unexpected creations you wouldn't usually find at your typical heartland joint. Its most famous dish is\\xa0the USDA Black Angus ‘Choice’ Rib-Eye (from $80/500g) served medium-rare with caramelised\\xa0onions, potato wedges and various sauces but you definitely need to have it with New Ubin's signature Heart Attack Fried Rice, which is fried with beef drippings. Aside from its star creation, other must-tries include the\\xa0Foie Gras Egg Special ($10.50), pan-seared foie gras served with soft boiled eggs sprinkled with truffle salt; mud crabs (from $48/400g) baked with copious amounts of garlic; as well as the Boss Bee Hoon ($12), a wok hei\\xa0bomb of just three simple ingredients: rice vermicelli, egg and chye sim.</p>\"]"
      ]
     },
     "execution_count": 30,
     "metadata": {},
     "output_type": "execute_result"
    }
   ],
   "source": [
    "des[4]"
   ]
  },
  {
   "cell_type": "code",
   "execution_count": 42,
   "metadata": {
    "hidden": true
   },
   "outputs": [
    {
     "data": {
      "text/plain": [
       "['\\n                New Ubin Zhongshan Park\\n            ',\n",
       " 0,\n",
       " \"<p>Opening its third outlet on the island and first hotel restaurant, New Ubin Group is quickly solidifying itself as Singapore's zi\\xa0char king. It's built a reputation\\xa0of serving hearty local favourites as well as some unexpected creations you wouldn't usually find at your typical heartland joint. Its most famous dish is\\xa0the USDA Black Angus ‘Choice’ Rib-Eye (from $80/500g) served medium-rare with caramelised\\xa0onions, potato wedges and various sauces but you definitely need to have it with New Ubin's signature Heart Attack Fried Rice, which is fried with beef drippings. Aside from its star creation, other must-tries include the\\xa0Foie Gras Egg Special ($10.50), pan-seared foie gras served with soft boiled eggs sprinkled with truffle salt; mud crabs (from $48/400g) baked with copious amounts of garlic; as well as the Boss Bee Hoon ($12), a wok hei\\xa0bomb of just three simple ingredients: rice vermicelli, egg and chye sim.</p>\"]"
      ]
     },
     "execution_count": 42,
     "metadata": {},
     "output_type": "execute_result"
    }
   ],
   "source": [
    "write = [[i[1],0,''.join(j)] for i,j in zip(titles2, des) if len(i)>0]\n",
    "write[4]"
   ]
  },
  {
   "cell_type": "code",
   "execution_count": 43,
   "metadata": {
    "hidden": true
   },
   "outputs": [],
   "source": [
    "with open('raw_data.csv', 'a', encoding='utf-8') as f:\n",
    "    writer = csv.writer(f, delimiter=',')\n",
    "    writer.writerows(write)"
   ]
  },
  {
   "cell_type": "markdown",
   "metadata": {
    "heading_collapsed": true
   },
   "source": [
    "# Cleaning"
   ]
  },
  {
   "cell_type": "code",
   "execution_count": 44,
   "metadata": {
    "hidden": true
   },
   "outputs": [
    {
     "data": {
      "text/plain": [
       "220"
      ]
     },
     "execution_count": 44,
     "metadata": {},
     "output_type": "execute_result"
    }
   ],
   "source": [
    "df = pd.read_csv('raw_data.csv', encoding='latin-1')\n",
    "df.tail()\n",
    "len(df)"
   ]
  },
  {
   "cell_type": "code",
   "execution_count": 45,
   "metadata": {
    "hidden": true
   },
   "outputs": [
    {
     "name": "stdout",
     "output_type": "stream",
     "text": [
      "55\n"
     ]
    },
    {
     "data": {
      "text/html": [
       "<div>\n",
       "<style scoped>\n",
       "    .dataframe tbody tr th:only-of-type {\n",
       "        vertical-align: middle;\n",
       "    }\n",
       "\n",
       "    .dataframe tbody tr th {\n",
       "        vertical-align: top;\n",
       "    }\n",
       "\n",
       "    .dataframe thead th {\n",
       "        text-align: right;\n",
       "    }\n",
       "</style>\n",
       "<table border=\"1\" class=\"dataframe\">\n",
       "  <thead>\n",
       "    <tr style=\"text-align: right;\">\n",
       "      <th></th>\n",
       "      <th>title</th>\n",
       "      <th>rating</th>\n",
       "      <th>des</th>\n",
       "    </tr>\n",
       "  </thead>\n",
       "  <tbody>\n",
       "    <tr>\n",
       "      <td>50</td>\n",
       "      <td></td>\n",
       "      <td>0</td>\n",
       "      <td>&lt;p&gt;Explore the &lt;a href=\"http://timeoutmarket.c...</td>\n",
       "    </tr>\n",
       "    <tr>\n",
       "      <td>51</td>\n",
       "      <td>The best new restaurants cafs and bars in Sing...</td>\n",
       "      <td>0</td>\n",
       "      <td>NaN</td>\n",
       "    </tr>\n",
       "    <tr>\n",
       "      <td>52</td>\n",
       "      <td>The best cheap eats in Singapore</td>\n",
       "      <td>0</td>\n",
       "      <td>NaN</td>\n",
       "    </tr>\n",
       "    <tr>\n",
       "      <td>53</td>\n",
       "      <td>The best hawker centres in Singapore</td>\n",
       "      <td>0</td>\n",
       "      <td>NaN</td>\n",
       "    </tr>\n",
       "    <tr>\n",
       "      <td>54</td>\n",
       "      <td>The best vegetarian and vegan restaurants in S...</td>\n",
       "      <td>0</td>\n",
       "      <td>NaN</td>\n",
       "    </tr>\n",
       "  </tbody>\n",
       "</table>\n",
       "</div>"
      ],
      "text/plain": [
       "                                                title  rating  \\\n",
       "50                                                          0   \n",
       "51  The best new restaurants cafs and bars in Sing...       0   \n",
       "52                   The best cheap eats in Singapore       0   \n",
       "53               The best hawker centres in Singapore       0   \n",
       "54  The best vegetarian and vegan restaurants in S...       0   \n",
       "\n",
       "                                                  des  \n",
       "50  <p>Explore the <a href=\"http://timeoutmarket.c...  \n",
       "51                                                NaN  \n",
       "52                                                NaN  \n",
       "53                                                NaN  \n",
       "54                                                NaN  "
      ]
     },
     "execution_count": 45,
     "metadata": {},
     "output_type": "execute_result"
    }
   ],
   "source": [
    "char_num = set('0123456789abcdefghijklmnopqrstuvwxyzABCDEFGHIJKLMNOPQRSTUVWXYZ!?$\"\\'()+-*/ .')\n",
    "\n",
    "def just_text(text):\n",
    "    text = ''.join(filter(lambda x: x in char_num, text)).strip()\n",
    "    return re.sub(' +', ' ',text)\n",
    "\n",
    "df['title'] = df['title'].map(just_text)\n",
    "df.drop_duplicates(subset='title', keep='first', inplace=True)\n",
    "\n",
    "print(len(df))\n",
    "df.tail()"
   ]
  },
  {
   "cell_type": "code",
   "execution_count": 38,
   "metadata": {
    "hidden": true
   },
   "outputs": [],
   "source": [
    "df.set_index('title', inplace = True)\n",
    "\n",
    "#df.reset_index(inplace = True)"
   ]
  },
  {
   "cell_type": "code",
   "execution_count": 39,
   "metadata": {
    "hidden": true
   },
   "outputs": [
    {
     "name": "stdout",
     "output_type": "stream",
     "text": [
      "55\n"
     ]
    },
    {
     "data": {
      "text/html": [
       "<div>\n",
       "<style scoped>\n",
       "    .dataframe tbody tr th:only-of-type {\n",
       "        vertical-align: middle;\n",
       "    }\n",
       "\n",
       "    .dataframe tbody tr th {\n",
       "        vertical-align: top;\n",
       "    }\n",
       "\n",
       "    .dataframe thead th {\n",
       "        text-align: right;\n",
       "    }\n",
       "</style>\n",
       "<table border=\"1\" class=\"dataframe\">\n",
       "  <thead>\n",
       "    <tr style=\"text-align: right;\">\n",
       "      <th></th>\n",
       "      <th>rating</th>\n",
       "      <th>des</th>\n",
       "    </tr>\n",
       "    <tr>\n",
       "      <th>title</th>\n",
       "      <th></th>\n",
       "      <th></th>\n",
       "    </tr>\n",
       "  </thead>\n",
       "  <tbody>\n",
       "    <tr>\n",
       "      <td></td>\n",
       "      <td>0</td>\n",
       "      <td>&lt;p&gt;Explore the &lt;a href=\"http://timeoutmarket.c...</td>\n",
       "    </tr>\n",
       "    <tr>\n",
       "      <td>The best new restaurants cafs and bars in Singapore</td>\n",
       "      <td>0</td>\n",
       "      <td>NaN</td>\n",
       "    </tr>\n",
       "    <tr>\n",
       "      <td>The best cheap eats in Singapore</td>\n",
       "      <td>0</td>\n",
       "      <td>NaN</td>\n",
       "    </tr>\n",
       "    <tr>\n",
       "      <td>The best hawker centres in Singapore</td>\n",
       "      <td>0</td>\n",
       "      <td>NaN</td>\n",
       "    </tr>\n",
       "    <tr>\n",
       "      <td>The best vegetarian and vegan restaurants in Singapore</td>\n",
       "      <td>0</td>\n",
       "      <td>NaN</td>\n",
       "    </tr>\n",
       "  </tbody>\n",
       "</table>\n",
       "</div>"
      ],
      "text/plain": [
       "                                                    rating  \\\n",
       "title                                                        \n",
       "                                                         0   \n",
       "The best new restaurants cafs and bars in Singa...       0   \n",
       "The best cheap eats in Singapore                         0   \n",
       "The best hawker centres in Singapore                     0   \n",
       "The best vegetarian and vegan restaurants in Si...       0   \n",
       "\n",
       "                                                                                                  des  \n",
       "title                                                                                                  \n",
       "                                                    <p>Explore the <a href=\"http://timeoutmarket.c...  \n",
       "The best new restaurants cafs and bars in Singa...                                                NaN  \n",
       "The best cheap eats in Singapore                                                                  NaN  \n",
       "The best hawker centres in Singapore                                                              NaN  \n",
       "The best vegetarian and vegan restaurants in Si...                                                NaN  "
      ]
     },
     "execution_count": 39,
     "metadata": {},
     "output_type": "execute_result"
    }
   ],
   "source": [
    "print(len(df))\n",
    "df.tail()"
   ]
  },
  {
   "cell_type": "code",
   "execution_count": 40,
   "metadata": {
    "hidden": true
   },
   "outputs": [
    {
     "ename": "KeyError",
     "evalue": "'Veganburg'",
     "output_type": "error",
     "traceback": [
      "\u001b[0;31m---------------------------------------------------------------------------\u001b[0m",
      "\u001b[0;31mTypeError\u001b[0m                                 Traceback (most recent call last)",
      "\u001b[0;32m~/.local/share/virtualenvs/express_prac-6l8yoKsq/lib/python3.7/site-packages/pandas/core/indexes/base.py\u001b[0m in \u001b[0;36mget_value\u001b[0;34m(self, series, key)\u001b[0m\n\u001b[1;32m   4735\u001b[0m             \u001b[0;32mtry\u001b[0m\u001b[0;34m:\u001b[0m\u001b[0;34m\u001b[0m\u001b[0;34m\u001b[0m\u001b[0m\n\u001b[0;32m-> 4736\u001b[0;31m                 \u001b[0;32mreturn\u001b[0m \u001b[0mlibindex\u001b[0m\u001b[0;34m.\u001b[0m\u001b[0mget_value_box\u001b[0m\u001b[0;34m(\u001b[0m\u001b[0ms\u001b[0m\u001b[0;34m,\u001b[0m \u001b[0mkey\u001b[0m\u001b[0;34m)\u001b[0m\u001b[0;34m\u001b[0m\u001b[0;34m\u001b[0m\u001b[0m\n\u001b[0m\u001b[1;32m   4737\u001b[0m             \u001b[0;32mexcept\u001b[0m \u001b[0mIndexError\u001b[0m\u001b[0;34m:\u001b[0m\u001b[0;34m\u001b[0m\u001b[0;34m\u001b[0m\u001b[0m\n",
      "\u001b[0;32mpandas/_libs/index.pyx\u001b[0m in \u001b[0;36mpandas._libs.index.get_value_box\u001b[0;34m()\u001b[0m\n",
      "\u001b[0;32mpandas/_libs/index.pyx\u001b[0m in \u001b[0;36mpandas._libs.index.get_value_at\u001b[0;34m()\u001b[0m\n",
      "\u001b[0;32mpandas/_libs/util.pxd\u001b[0m in \u001b[0;36mpandas._libs.util.get_value_at\u001b[0;34m()\u001b[0m\n",
      "\u001b[0;32mpandas/_libs/util.pxd\u001b[0m in \u001b[0;36mpandas._libs.util.validate_indexer\u001b[0;34m()\u001b[0m\n",
      "\u001b[0;31mTypeError\u001b[0m: 'str' object cannot be interpreted as an integer",
      "\nDuring handling of the above exception, another exception occurred:\n",
      "\u001b[0;31mKeyError\u001b[0m                                  Traceback (most recent call last)",
      "\u001b[0;32m<ipython-input-40-6f3c38966fd7>\u001b[0m in \u001b[0;36m<module>\u001b[0;34m\u001b[0m\n\u001b[0;32m----> 1\u001b[0;31m \u001b[0mdf\u001b[0m\u001b[0;34m[\u001b[0m\u001b[0;34m'des'\u001b[0m\u001b[0;34m]\u001b[0m\u001b[0;34m[\u001b[0m\u001b[0;34m'Veganburg'\u001b[0m\u001b[0;34m]\u001b[0m\u001b[0;34m\u001b[0m\u001b[0;34m\u001b[0m\u001b[0m\n\u001b[0m",
      "\u001b[0;32m~/.local/share/virtualenvs/express_prac-6l8yoKsq/lib/python3.7/site-packages/pandas/core/series.py\u001b[0m in \u001b[0;36m__getitem__\u001b[0;34m(self, key)\u001b[0m\n\u001b[1;32m   1066\u001b[0m         \u001b[0mkey\u001b[0m \u001b[0;34m=\u001b[0m \u001b[0mcom\u001b[0m\u001b[0;34m.\u001b[0m\u001b[0mapply_if_callable\u001b[0m\u001b[0;34m(\u001b[0m\u001b[0mkey\u001b[0m\u001b[0;34m,\u001b[0m \u001b[0mself\u001b[0m\u001b[0;34m)\u001b[0m\u001b[0;34m\u001b[0m\u001b[0;34m\u001b[0m\u001b[0m\n\u001b[1;32m   1067\u001b[0m         \u001b[0;32mtry\u001b[0m\u001b[0;34m:\u001b[0m\u001b[0;34m\u001b[0m\u001b[0;34m\u001b[0m\u001b[0m\n\u001b[0;32m-> 1068\u001b[0;31m             \u001b[0mresult\u001b[0m \u001b[0;34m=\u001b[0m \u001b[0mself\u001b[0m\u001b[0;34m.\u001b[0m\u001b[0mindex\u001b[0m\u001b[0;34m.\u001b[0m\u001b[0mget_value\u001b[0m\u001b[0;34m(\u001b[0m\u001b[0mself\u001b[0m\u001b[0;34m,\u001b[0m \u001b[0mkey\u001b[0m\u001b[0;34m)\u001b[0m\u001b[0;34m\u001b[0m\u001b[0;34m\u001b[0m\u001b[0m\n\u001b[0m\u001b[1;32m   1069\u001b[0m \u001b[0;34m\u001b[0m\u001b[0m\n\u001b[1;32m   1070\u001b[0m             \u001b[0;32mif\u001b[0m \u001b[0;32mnot\u001b[0m \u001b[0mis_scalar\u001b[0m\u001b[0;34m(\u001b[0m\u001b[0mresult\u001b[0m\u001b[0;34m)\u001b[0m\u001b[0;34m:\u001b[0m\u001b[0;34m\u001b[0m\u001b[0;34m\u001b[0m\u001b[0m\n",
      "\u001b[0;32m~/.local/share/virtualenvs/express_prac-6l8yoKsq/lib/python3.7/site-packages/pandas/core/indexes/base.py\u001b[0m in \u001b[0;36mget_value\u001b[0;34m(self, series, key)\u001b[0m\n\u001b[1;32m   4742\u001b[0m                     \u001b[0;32mraise\u001b[0m \u001b[0mInvalidIndexError\u001b[0m\u001b[0;34m(\u001b[0m\u001b[0mkey\u001b[0m\u001b[0;34m)\u001b[0m\u001b[0;34m\u001b[0m\u001b[0;34m\u001b[0m\u001b[0m\n\u001b[1;32m   4743\u001b[0m                 \u001b[0;32melse\u001b[0m\u001b[0;34m:\u001b[0m\u001b[0;34m\u001b[0m\u001b[0;34m\u001b[0m\u001b[0m\n\u001b[0;32m-> 4744\u001b[0;31m                     \u001b[0;32mraise\u001b[0m \u001b[0me1\u001b[0m\u001b[0;34m\u001b[0m\u001b[0;34m\u001b[0m\u001b[0m\n\u001b[0m\u001b[1;32m   4745\u001b[0m             \u001b[0;32mexcept\u001b[0m \u001b[0mException\u001b[0m\u001b[0;34m:\u001b[0m  \u001b[0;31m# pragma: no cover\u001b[0m\u001b[0;34m\u001b[0m\u001b[0;34m\u001b[0m\u001b[0m\n\u001b[1;32m   4746\u001b[0m                 \u001b[0;32mraise\u001b[0m \u001b[0me1\u001b[0m\u001b[0;34m\u001b[0m\u001b[0;34m\u001b[0m\u001b[0m\n",
      "\u001b[0;32m~/.local/share/virtualenvs/express_prac-6l8yoKsq/lib/python3.7/site-packages/pandas/core/indexes/base.py\u001b[0m in \u001b[0;36mget_value\u001b[0;34m(self, series, key)\u001b[0m\n\u001b[1;32m   4728\u001b[0m         \u001b[0mk\u001b[0m \u001b[0;34m=\u001b[0m \u001b[0mself\u001b[0m\u001b[0;34m.\u001b[0m\u001b[0m_convert_scalar_indexer\u001b[0m\u001b[0;34m(\u001b[0m\u001b[0mk\u001b[0m\u001b[0;34m,\u001b[0m \u001b[0mkind\u001b[0m\u001b[0;34m=\u001b[0m\u001b[0;34m\"getitem\"\u001b[0m\u001b[0;34m)\u001b[0m\u001b[0;34m\u001b[0m\u001b[0;34m\u001b[0m\u001b[0m\n\u001b[1;32m   4729\u001b[0m         \u001b[0;32mtry\u001b[0m\u001b[0;34m:\u001b[0m\u001b[0;34m\u001b[0m\u001b[0;34m\u001b[0m\u001b[0m\n\u001b[0;32m-> 4730\u001b[0;31m             \u001b[0;32mreturn\u001b[0m \u001b[0mself\u001b[0m\u001b[0;34m.\u001b[0m\u001b[0m_engine\u001b[0m\u001b[0;34m.\u001b[0m\u001b[0mget_value\u001b[0m\u001b[0;34m(\u001b[0m\u001b[0ms\u001b[0m\u001b[0;34m,\u001b[0m \u001b[0mk\u001b[0m\u001b[0;34m,\u001b[0m \u001b[0mtz\u001b[0m\u001b[0;34m=\u001b[0m\u001b[0mgetattr\u001b[0m\u001b[0;34m(\u001b[0m\u001b[0mseries\u001b[0m\u001b[0;34m.\u001b[0m\u001b[0mdtype\u001b[0m\u001b[0;34m,\u001b[0m \u001b[0;34m\"tz\"\u001b[0m\u001b[0;34m,\u001b[0m \u001b[0;32mNone\u001b[0m\u001b[0;34m)\u001b[0m\u001b[0;34m)\u001b[0m\u001b[0;34m\u001b[0m\u001b[0;34m\u001b[0m\u001b[0m\n\u001b[0m\u001b[1;32m   4731\u001b[0m         \u001b[0;32mexcept\u001b[0m \u001b[0mKeyError\u001b[0m \u001b[0;32mas\u001b[0m \u001b[0me1\u001b[0m\u001b[0;34m:\u001b[0m\u001b[0;34m\u001b[0m\u001b[0;34m\u001b[0m\u001b[0m\n\u001b[1;32m   4732\u001b[0m             \u001b[0;32mif\u001b[0m \u001b[0mlen\u001b[0m\u001b[0;34m(\u001b[0m\u001b[0mself\u001b[0m\u001b[0;34m)\u001b[0m \u001b[0;34m>\u001b[0m \u001b[0;36m0\u001b[0m \u001b[0;32mand\u001b[0m \u001b[0;34m(\u001b[0m\u001b[0mself\u001b[0m\u001b[0;34m.\u001b[0m\u001b[0mholds_integer\u001b[0m\u001b[0;34m(\u001b[0m\u001b[0;34m)\u001b[0m \u001b[0;32mor\u001b[0m \u001b[0mself\u001b[0m\u001b[0;34m.\u001b[0m\u001b[0mis_boolean\u001b[0m\u001b[0;34m(\u001b[0m\u001b[0;34m)\u001b[0m\u001b[0;34m)\u001b[0m\u001b[0;34m:\u001b[0m\u001b[0;34m\u001b[0m\u001b[0;34m\u001b[0m\u001b[0m\n",
      "\u001b[0;32mpandas/_libs/index.pyx\u001b[0m in \u001b[0;36mpandas._libs.index.IndexEngine.get_value\u001b[0;34m()\u001b[0m\n",
      "\u001b[0;32mpandas/_libs/index.pyx\u001b[0m in \u001b[0;36mpandas._libs.index.IndexEngine.get_value\u001b[0;34m()\u001b[0m\n",
      "\u001b[0;32mpandas/_libs/index.pyx\u001b[0m in \u001b[0;36mpandas._libs.index.IndexEngine.get_loc\u001b[0;34m()\u001b[0m\n",
      "\u001b[0;32mpandas/_libs/hashtable_class_helper.pxi\u001b[0m in \u001b[0;36mpandas._libs.hashtable.PyObjectHashTable.get_item\u001b[0;34m()\u001b[0m\n",
      "\u001b[0;32mpandas/_libs/hashtable_class_helper.pxi\u001b[0m in \u001b[0;36mpandas._libs.hashtable.PyObjectHashTable.get_item\u001b[0;34m()\u001b[0m\n",
      "\u001b[0;31mKeyError\u001b[0m: 'Veganburg'"
     ]
    }
   ],
   "source": [
    "df['des']['Veganburg']"
   ]
  },
  {
   "cell_type": "code",
   "execution_count": 41,
   "metadata": {
    "hidden": true
   },
   "outputs": [
    {
     "ename": "KeyError",
     "evalue": "'Veganburg'",
     "output_type": "error",
     "traceback": [
      "\u001b[0;31m---------------------------------------------------------------------------\u001b[0m",
      "\u001b[0;31mTypeError\u001b[0m                                 Traceback (most recent call last)",
      "\u001b[0;32m~/.local/share/virtualenvs/express_prac-6l8yoKsq/lib/python3.7/site-packages/pandas/core/indexes/base.py\u001b[0m in \u001b[0;36mget_value\u001b[0;34m(self, series, key)\u001b[0m\n\u001b[1;32m   4735\u001b[0m             \u001b[0;32mtry\u001b[0m\u001b[0;34m:\u001b[0m\u001b[0;34m\u001b[0m\u001b[0;34m\u001b[0m\u001b[0m\n\u001b[0;32m-> 4736\u001b[0;31m                 \u001b[0;32mreturn\u001b[0m \u001b[0mlibindex\u001b[0m\u001b[0;34m.\u001b[0m\u001b[0mget_value_box\u001b[0m\u001b[0;34m(\u001b[0m\u001b[0ms\u001b[0m\u001b[0;34m,\u001b[0m \u001b[0mkey\u001b[0m\u001b[0;34m)\u001b[0m\u001b[0;34m\u001b[0m\u001b[0;34m\u001b[0m\u001b[0m\n\u001b[0m\u001b[1;32m   4737\u001b[0m             \u001b[0;32mexcept\u001b[0m \u001b[0mIndexError\u001b[0m\u001b[0;34m:\u001b[0m\u001b[0;34m\u001b[0m\u001b[0;34m\u001b[0m\u001b[0m\n",
      "\u001b[0;32mpandas/_libs/index.pyx\u001b[0m in \u001b[0;36mpandas._libs.index.get_value_box\u001b[0;34m()\u001b[0m\n",
      "\u001b[0;32mpandas/_libs/index.pyx\u001b[0m in \u001b[0;36mpandas._libs.index.get_value_at\u001b[0;34m()\u001b[0m\n",
      "\u001b[0;32mpandas/_libs/util.pxd\u001b[0m in \u001b[0;36mpandas._libs.util.get_value_at\u001b[0;34m()\u001b[0m\n",
      "\u001b[0;32mpandas/_libs/util.pxd\u001b[0m in \u001b[0;36mpandas._libs.util.validate_indexer\u001b[0;34m()\u001b[0m\n",
      "\u001b[0;31mTypeError\u001b[0m: 'str' object cannot be interpreted as an integer",
      "\nDuring handling of the above exception, another exception occurred:\n",
      "\u001b[0;31mKeyError\u001b[0m                                  Traceback (most recent call last)",
      "\u001b[0;32m<ipython-input-41-4e4f1cadde45>\u001b[0m in \u001b[0;36m<module>\u001b[0;34m\u001b[0m\n\u001b[1;32m      4\u001b[0m     \u001b[0;32mreturn\u001b[0m \u001b[0mTAG_RE\u001b[0m\u001b[0;34m.\u001b[0m\u001b[0msub\u001b[0m\u001b[0;34m(\u001b[0m\u001b[0;34m' '\u001b[0m\u001b[0;34m,\u001b[0m \u001b[0mtext\u001b[0m\u001b[0;34m)\u001b[0m\u001b[0;34m\u001b[0m\u001b[0;34m\u001b[0m\u001b[0m\n\u001b[1;32m      5\u001b[0m \u001b[0;34m\u001b[0m\u001b[0m\n\u001b[0;32m----> 6\u001b[0;31m \u001b[0mremove_tags\u001b[0m\u001b[0;34m(\u001b[0m\u001b[0mdf\u001b[0m\u001b[0;34m[\u001b[0m\u001b[0;34m'des'\u001b[0m\u001b[0;34m]\u001b[0m\u001b[0;34m[\u001b[0m\u001b[0;34m'Veganburg'\u001b[0m\u001b[0;34m]\u001b[0m\u001b[0;34m)\u001b[0m\u001b[0;34m\u001b[0m\u001b[0;34m\u001b[0m\u001b[0m\n\u001b[0m",
      "\u001b[0;32m~/.local/share/virtualenvs/express_prac-6l8yoKsq/lib/python3.7/site-packages/pandas/core/series.py\u001b[0m in \u001b[0;36m__getitem__\u001b[0;34m(self, key)\u001b[0m\n\u001b[1;32m   1066\u001b[0m         \u001b[0mkey\u001b[0m \u001b[0;34m=\u001b[0m \u001b[0mcom\u001b[0m\u001b[0;34m.\u001b[0m\u001b[0mapply_if_callable\u001b[0m\u001b[0;34m(\u001b[0m\u001b[0mkey\u001b[0m\u001b[0;34m,\u001b[0m \u001b[0mself\u001b[0m\u001b[0;34m)\u001b[0m\u001b[0;34m\u001b[0m\u001b[0;34m\u001b[0m\u001b[0m\n\u001b[1;32m   1067\u001b[0m         \u001b[0;32mtry\u001b[0m\u001b[0;34m:\u001b[0m\u001b[0;34m\u001b[0m\u001b[0;34m\u001b[0m\u001b[0m\n\u001b[0;32m-> 1068\u001b[0;31m             \u001b[0mresult\u001b[0m \u001b[0;34m=\u001b[0m \u001b[0mself\u001b[0m\u001b[0;34m.\u001b[0m\u001b[0mindex\u001b[0m\u001b[0;34m.\u001b[0m\u001b[0mget_value\u001b[0m\u001b[0;34m(\u001b[0m\u001b[0mself\u001b[0m\u001b[0;34m,\u001b[0m \u001b[0mkey\u001b[0m\u001b[0;34m)\u001b[0m\u001b[0;34m\u001b[0m\u001b[0;34m\u001b[0m\u001b[0m\n\u001b[0m\u001b[1;32m   1069\u001b[0m \u001b[0;34m\u001b[0m\u001b[0m\n\u001b[1;32m   1070\u001b[0m             \u001b[0;32mif\u001b[0m \u001b[0;32mnot\u001b[0m \u001b[0mis_scalar\u001b[0m\u001b[0;34m(\u001b[0m\u001b[0mresult\u001b[0m\u001b[0;34m)\u001b[0m\u001b[0;34m:\u001b[0m\u001b[0;34m\u001b[0m\u001b[0;34m\u001b[0m\u001b[0m\n",
      "\u001b[0;32m~/.local/share/virtualenvs/express_prac-6l8yoKsq/lib/python3.7/site-packages/pandas/core/indexes/base.py\u001b[0m in \u001b[0;36mget_value\u001b[0;34m(self, series, key)\u001b[0m\n\u001b[1;32m   4742\u001b[0m                     \u001b[0;32mraise\u001b[0m \u001b[0mInvalidIndexError\u001b[0m\u001b[0;34m(\u001b[0m\u001b[0mkey\u001b[0m\u001b[0;34m)\u001b[0m\u001b[0;34m\u001b[0m\u001b[0;34m\u001b[0m\u001b[0m\n\u001b[1;32m   4743\u001b[0m                 \u001b[0;32melse\u001b[0m\u001b[0;34m:\u001b[0m\u001b[0;34m\u001b[0m\u001b[0;34m\u001b[0m\u001b[0m\n\u001b[0;32m-> 4744\u001b[0;31m                     \u001b[0;32mraise\u001b[0m \u001b[0me1\u001b[0m\u001b[0;34m\u001b[0m\u001b[0;34m\u001b[0m\u001b[0m\n\u001b[0m\u001b[1;32m   4745\u001b[0m             \u001b[0;32mexcept\u001b[0m \u001b[0mException\u001b[0m\u001b[0;34m:\u001b[0m  \u001b[0;31m# pragma: no cover\u001b[0m\u001b[0;34m\u001b[0m\u001b[0;34m\u001b[0m\u001b[0m\n\u001b[1;32m   4746\u001b[0m                 \u001b[0;32mraise\u001b[0m \u001b[0me1\u001b[0m\u001b[0;34m\u001b[0m\u001b[0;34m\u001b[0m\u001b[0m\n",
      "\u001b[0;32m~/.local/share/virtualenvs/express_prac-6l8yoKsq/lib/python3.7/site-packages/pandas/core/indexes/base.py\u001b[0m in \u001b[0;36mget_value\u001b[0;34m(self, series, key)\u001b[0m\n\u001b[1;32m   4728\u001b[0m         \u001b[0mk\u001b[0m \u001b[0;34m=\u001b[0m \u001b[0mself\u001b[0m\u001b[0;34m.\u001b[0m\u001b[0m_convert_scalar_indexer\u001b[0m\u001b[0;34m(\u001b[0m\u001b[0mk\u001b[0m\u001b[0;34m,\u001b[0m \u001b[0mkind\u001b[0m\u001b[0;34m=\u001b[0m\u001b[0;34m\"getitem\"\u001b[0m\u001b[0;34m)\u001b[0m\u001b[0;34m\u001b[0m\u001b[0;34m\u001b[0m\u001b[0m\n\u001b[1;32m   4729\u001b[0m         \u001b[0;32mtry\u001b[0m\u001b[0;34m:\u001b[0m\u001b[0;34m\u001b[0m\u001b[0;34m\u001b[0m\u001b[0m\n\u001b[0;32m-> 4730\u001b[0;31m             \u001b[0;32mreturn\u001b[0m \u001b[0mself\u001b[0m\u001b[0;34m.\u001b[0m\u001b[0m_engine\u001b[0m\u001b[0;34m.\u001b[0m\u001b[0mget_value\u001b[0m\u001b[0;34m(\u001b[0m\u001b[0ms\u001b[0m\u001b[0;34m,\u001b[0m \u001b[0mk\u001b[0m\u001b[0;34m,\u001b[0m \u001b[0mtz\u001b[0m\u001b[0;34m=\u001b[0m\u001b[0mgetattr\u001b[0m\u001b[0;34m(\u001b[0m\u001b[0mseries\u001b[0m\u001b[0;34m.\u001b[0m\u001b[0mdtype\u001b[0m\u001b[0;34m,\u001b[0m \u001b[0;34m\"tz\"\u001b[0m\u001b[0;34m,\u001b[0m \u001b[0;32mNone\u001b[0m\u001b[0;34m)\u001b[0m\u001b[0;34m)\u001b[0m\u001b[0;34m\u001b[0m\u001b[0;34m\u001b[0m\u001b[0m\n\u001b[0m\u001b[1;32m   4731\u001b[0m         \u001b[0;32mexcept\u001b[0m \u001b[0mKeyError\u001b[0m \u001b[0;32mas\u001b[0m \u001b[0me1\u001b[0m\u001b[0;34m:\u001b[0m\u001b[0;34m\u001b[0m\u001b[0;34m\u001b[0m\u001b[0m\n\u001b[1;32m   4732\u001b[0m             \u001b[0;32mif\u001b[0m \u001b[0mlen\u001b[0m\u001b[0;34m(\u001b[0m\u001b[0mself\u001b[0m\u001b[0;34m)\u001b[0m \u001b[0;34m>\u001b[0m \u001b[0;36m0\u001b[0m \u001b[0;32mand\u001b[0m \u001b[0;34m(\u001b[0m\u001b[0mself\u001b[0m\u001b[0;34m.\u001b[0m\u001b[0mholds_integer\u001b[0m\u001b[0;34m(\u001b[0m\u001b[0;34m)\u001b[0m \u001b[0;32mor\u001b[0m \u001b[0mself\u001b[0m\u001b[0;34m.\u001b[0m\u001b[0mis_boolean\u001b[0m\u001b[0;34m(\u001b[0m\u001b[0;34m)\u001b[0m\u001b[0;34m)\u001b[0m\u001b[0;34m:\u001b[0m\u001b[0;34m\u001b[0m\u001b[0;34m\u001b[0m\u001b[0m\n",
      "\u001b[0;32mpandas/_libs/index.pyx\u001b[0m in \u001b[0;36mpandas._libs.index.IndexEngine.get_value\u001b[0;34m()\u001b[0m\n",
      "\u001b[0;32mpandas/_libs/index.pyx\u001b[0m in \u001b[0;36mpandas._libs.index.IndexEngine.get_value\u001b[0;34m()\u001b[0m\n",
      "\u001b[0;32mpandas/_libs/index.pyx\u001b[0m in \u001b[0;36mpandas._libs.index.IndexEngine.get_loc\u001b[0;34m()\u001b[0m\n",
      "\u001b[0;32mpandas/_libs/hashtable_class_helper.pxi\u001b[0m in \u001b[0;36mpandas._libs.hashtable.PyObjectHashTable.get_item\u001b[0;34m()\u001b[0m\n",
      "\u001b[0;32mpandas/_libs/hashtable_class_helper.pxi\u001b[0m in \u001b[0;36mpandas._libs.hashtable.PyObjectHashTable.get_item\u001b[0;34m()\u001b[0m\n",
      "\u001b[0;31mKeyError\u001b[0m: 'Veganburg'"
     ]
    }
   ],
   "source": [
    "TAG_RE = re.compile(r'<[^>]+>')\n",
    "\n",
    "def remove_tags(text):\n",
    "    return TAG_RE.sub(' ', text)\n",
    "\n",
    "remove_tags(df['des'][])"
   ]
  },
  {
   "cell_type": "code",
   "execution_count": 32,
   "metadata": {
    "hidden": true
   },
   "outputs": [],
   "source": [
    "df['des'] = df['des'].map(remove_tags)"
   ]
  },
  {
   "cell_type": "code",
   "execution_count": 33,
   "metadata": {
    "hidden": true
   },
   "outputs": [
    {
     "data": {
      "text/plain": [
       "'0123456789abcdefghijklmnopqrstuvwxyzABCDEFGHIJKLMNOPQRSTUVWXYZ!\"#$%&\\'()*+,-./:;<=>?@[\\\\]^_`{|}~ \\t\\n\\r\\x0b\\x0c'"
      ]
     },
     "execution_count": 33,
     "metadata": {},
     "output_type": "execute_result"
    }
   ],
   "source": [
    "string.printable"
   ]
  },
  {
   "cell_type": "code",
   "execution_count": 34,
   "metadata": {
    "hidden": true
   },
   "outputs": [
    {
     "data": {
      "text/plain": [
       "'Burger joints are a dime a dozen in Singapore. But theres possibly only one which is VeganBurg that like its name suggests offers vegan burgers. The fast-food vegan joint doesnt let the plant-based ethos limits its range instead youll be offered a variety of seven burger mainstays plus other seasonal offerings. Other sidekicks tocomplement your meal include vegan hot dogs crispy fries drenched in awesome sauces and even char0grilled brocooi sticks if youre laying off on carbs. TRY The best-selling Smoky BBQ Burger ($11.90) featuring a bbq sauce-clad plant-based patty lettuce tomatoes and onion rigns cushioned between wholemeal buns. For something that hits close to home opt for the Char-Grilled Satay Burger ($10.90) that has nutty satay sauce slathered on its plant-based patties.'"
      ]
     },
     "execution_count": 34,
     "metadata": {},
     "output_type": "execute_result"
    }
   ],
   "source": [
    "just_text(df['des']['Veganburg'])"
   ]
  },
  {
   "cell_type": "code",
   "execution_count": 35,
   "metadata": {
    "hidden": true
   },
   "outputs": [],
   "source": [
    "df['des'] = df['des'].map(just_text)"
   ]
  },
  {
   "cell_type": "code",
   "execution_count": 36,
   "metadata": {
    "hidden": true
   },
   "outputs": [],
   "source": [
    "def keywords(x):\n",
    "    r = Rake()\n",
    "    r.extract_keywords_from_text(x)\n",
    "    return ' '.join(list(r.get_word_degrees().keys()))\n",
    "\n",
    "df['words'] = df['des'].map(keywords)"
   ]
  },
  {
   "cell_type": "code",
   "execution_count": 37,
   "metadata": {
    "hidden": true
   },
   "outputs": [
    {
     "data": {
      "text/html": [
       "<div>\n",
       "<style scoped>\n",
       "    .dataframe tbody tr th:only-of-type {\n",
       "        vertical-align: middle;\n",
       "    }\n",
       "\n",
       "    .dataframe tbody tr th {\n",
       "        vertical-align: top;\n",
       "    }\n",
       "\n",
       "    .dataframe thead th {\n",
       "        text-align: right;\n",
       "    }\n",
       "</style>\n",
       "<table border=\"1\" class=\"dataframe\">\n",
       "  <thead>\n",
       "    <tr style=\"text-align: right;\">\n",
       "      <th></th>\n",
       "      <th>category</th>\n",
       "      <th>des</th>\n",
       "      <th>words</th>\n",
       "    </tr>\n",
       "    <tr>\n",
       "      <th>title</th>\n",
       "      <th></th>\n",
       "      <th></th>\n",
       "      <th></th>\n",
       "    </tr>\n",
       "  </thead>\n",
       "  <tbody>\n",
       "    <tr>\n",
       "      <th>Salted and Hung</th>\n",
       "      <td>0</td>\n",
       "      <td>Curing smoking and fermenting are front and ce...</td>\n",
       "      <td>fermenting salami clear nocentes aussie roots ...</td>\n",
       "    </tr>\n",
       "    <tr>\n",
       "      <th>Humpback</th>\n",
       "      <td>0</td>\n",
       "      <td>It might not live by the sea but this beach sh...</td>\n",
       "      <td>always beach shack along bukit pasoh road live...</td>\n",
       "    </tr>\n",
       "    <tr>\n",
       "      <th>Ding Dong</th>\n",
       "      <td>0</td>\n",
       "      <td>This contemporary South-East Asian restaurant ...</td>\n",
       "      <td>fun spa esprit group rendang beef brisketbuns ...</td>\n",
       "    </tr>\n",
       "    <tr>\n",
       "      <th>Teppei Japanese Restaurant</th>\n",
       "      <td>0</td>\n",
       "      <td>The only place where you can get a six- to nin...</td>\n",
       "      <td>always salmon nine c hef yamashita teppeis 17 ...</td>\n",
       "    </tr>\n",
       "    <tr>\n",
       "      <th>Skai</th>\n",
       "      <td>0</td>\n",
       "      <td>Perched on the 70th floor of the Swissotel the...</td>\n",
       "      <td>70th floor self perched surprise also steak of...</td>\n",
       "    </tr>\n",
       "  </tbody>\n",
       "</table>\n",
       "</div>"
      ],
      "text/plain": [
       "                            category  \\\n",
       "title                                  \n",
       "Salted and Hung                    0   \n",
       "Humpback                           0   \n",
       "Ding Dong                          0   \n",
       "Teppei Japanese Restaurant         0   \n",
       "Skai                               0   \n",
       "\n",
       "                                                                          des  \\\n",
       "title                                                                           \n",
       "Salted and Hung             Curing smoking and fermenting are front and ce...   \n",
       "Humpback                    It might not live by the sea but this beach sh...   \n",
       "Ding Dong                   This contemporary South-East Asian restaurant ...   \n",
       "Teppei Japanese Restaurant  The only place where you can get a six- to nin...   \n",
       "Skai                        Perched on the 70th floor of the Swissotel the...   \n",
       "\n",
       "                                                                        words  \n",
       "title                                                                          \n",
       "Salted and Hung             fermenting salami clear nocentes aussie roots ...  \n",
       "Humpback                    always beach shack along bukit pasoh road live...  \n",
       "Ding Dong                   fun spa esprit group rendang beef brisketbuns ...  \n",
       "Teppei Japanese Restaurant  always salmon nine c hef yamashita teppeis 17 ...  \n",
       "Skai                        70th floor self perched surprise also steak of...  "
      ]
     },
     "execution_count": 37,
     "metadata": {},
     "output_type": "execute_result"
    }
   ],
   "source": [
    "df.tail()"
   ]
  },
  {
   "cell_type": "code",
   "execution_count": 46,
   "metadata": {
    "hidden": true
   },
   "outputs": [],
   "source": [
    "\n",
    "df.to_csv('clean_data.csv')\n",
    "df = pd.read_csv('clean_data.csv', encoding='latin-1')\n",
    "df['id'] = df.index\n",
    "df.set_index('title', inplace = True)\n",
    "df.to_csv('clean_data.csv')"
   ]
  },
  {
   "cell_type": "markdown",
   "metadata": {},
   "source": [
    "# Cosine Similarity"
   ]
  },
  {
   "cell_type": "code",
   "execution_count": 47,
   "metadata": {},
   "outputs": [],
   "source": [
    "df = pd.read_csv('clean_data.csv', encoding='latin-1')"
   ]
  },
  {
   "cell_type": "code",
   "execution_count": 48,
   "metadata": {
    "scrolled": true
   },
   "outputs": [
    {
     "data": {
      "text/html": [
       "<div>\n",
       "<style scoped>\n",
       "    .dataframe tbody tr th:only-of-type {\n",
       "        vertical-align: middle;\n",
       "    }\n",
       "\n",
       "    .dataframe tbody tr th {\n",
       "        vertical-align: top;\n",
       "    }\n",
       "\n",
       "    .dataframe thead th {\n",
       "        text-align: right;\n",
       "    }\n",
       "</style>\n",
       "<table border=\"1\" class=\"dataframe\">\n",
       "  <thead>\n",
       "    <tr style=\"text-align: right;\">\n",
       "      <th></th>\n",
       "      <th>Unnamed: 0</th>\n",
       "      <th>rating</th>\n",
       "      <th>des</th>\n",
       "      <th>id</th>\n",
       "    </tr>\n",
       "    <tr>\n",
       "      <th>title</th>\n",
       "      <th></th>\n",
       "      <th></th>\n",
       "      <th></th>\n",
       "      <th></th>\n",
       "    </tr>\n",
       "  </thead>\n",
       "  <tbody>\n",
       "    <tr>\n",
       "      <td>NaN</td>\n",
       "      <td>50</td>\n",
       "      <td>0</td>\n",
       "      <td>&lt;p&gt;Explore the &lt;a href=\"http://timeoutmarket.c...</td>\n",
       "      <td>50</td>\n",
       "    </tr>\n",
       "    <tr>\n",
       "      <td>The best new restaurants cafs and bars in Singapore</td>\n",
       "      <td>51</td>\n",
       "      <td>0</td>\n",
       "      <td>NaN</td>\n",
       "      <td>51</td>\n",
       "    </tr>\n",
       "    <tr>\n",
       "      <td>The best cheap eats in Singapore</td>\n",
       "      <td>52</td>\n",
       "      <td>0</td>\n",
       "      <td>NaN</td>\n",
       "      <td>52</td>\n",
       "    </tr>\n",
       "    <tr>\n",
       "      <td>The best hawker centres in Singapore</td>\n",
       "      <td>53</td>\n",
       "      <td>0</td>\n",
       "      <td>NaN</td>\n",
       "      <td>53</td>\n",
       "    </tr>\n",
       "    <tr>\n",
       "      <td>The best vegetarian and vegan restaurants in Singapore</td>\n",
       "      <td>54</td>\n",
       "      <td>0</td>\n",
       "      <td>NaN</td>\n",
       "      <td>54</td>\n",
       "    </tr>\n",
       "  </tbody>\n",
       "</table>\n",
       "</div>"
      ],
      "text/plain": [
       "                                                    Unnamed: 0  rating  \\\n",
       "title                                                                    \n",
       "NaN                                                         50       0   \n",
       "The best new restaurants cafs and bars in Singa...          51       0   \n",
       "The best cheap eats in Singapore                            52       0   \n",
       "The best hawker centres in Singapore                        53       0   \n",
       "The best vegetarian and vegan restaurants in Si...          54       0   \n",
       "\n",
       "                                                                                                  des  \\\n",
       "title                                                                                                   \n",
       "NaN                                                 <p>Explore the <a href=\"http://timeoutmarket.c...   \n",
       "The best new restaurants cafs and bars in Singa...                                                NaN   \n",
       "The best cheap eats in Singapore                                                                  NaN   \n",
       "The best hawker centres in Singapore                                                              NaN   \n",
       "The best vegetarian and vegan restaurants in Si...                                                NaN   \n",
       "\n",
       "                                                    id  \n",
       "title                                                   \n",
       "NaN                                                 50  \n",
       "The best new restaurants cafs and bars in Singa...  51  \n",
       "The best cheap eats in Singapore                    52  \n",
       "The best hawker centres in Singapore                53  \n",
       "The best vegetarian and vegan restaurants in Si...  54  "
      ]
     },
     "execution_count": 48,
     "metadata": {},
     "output_type": "execute_result"
    }
   ],
   "source": [
    "\n",
    "df.set_index('title', inplace = True)\n",
    "df.tail()"
   ]
  },
  {
   "cell_type": "code",
   "execution_count": 5,
   "metadata": {},
   "outputs": [],
   "source": [
    "count = CountVectorizer()\n",
    "count_matrix = count.fit_transform(df['words'])"
   ]
  },
  {
   "cell_type": "code",
   "execution_count": 6,
   "metadata": {},
   "outputs": [
    {
     "data": {
      "text/plain": [
       "array([[1.        , 0.04067259, 0.05661385, ..., 0.02199529, 0.02564103,\n",
       "        0.0457509 ],\n",
       "       [0.04067259, 1.        , 0.02245066, ..., 0.01744481, 0.        ,\n",
       "        0.        ],\n",
       "       [0.05661385, 0.02245066, 1.        , ..., 0.04856429, 0.        ,\n",
       "        0.02525381],\n",
       "       ...,\n",
       "       [0.02199529, 0.01744481, 0.04856429, ..., 1.        , 0.04399059,\n",
       "        0.07849175],\n",
       "       [0.02564103, 0.        , 0.        , ..., 0.04399059, 1.        ,\n",
       "        0.06862635],\n",
       "       [0.0457509 , 0.        , 0.02525381, ..., 0.07849175, 0.06862635,\n",
       "        1.        ]])"
      ]
     },
     "execution_count": 6,
     "metadata": {},
     "output_type": "execute_result"
    }
   ],
   "source": [
    "cosine_sim = cosine_similarity(count_matrix, count_matrix)\n",
    "cosine_sim"
   ]
  },
  {
   "cell_type": "code",
   "execution_count": 7,
   "metadata": {},
   "outputs": [],
   "source": [
    "def recommendations(title, cosine_sim = cosine_sim):\n",
    "    \n",
    "    recommended = []\n",
    "    \n",
    "    idx = df.loc[title, 'id']\n",
    "    score_series = pd.Series(cosine_sim[idx]).sort_values(ascending = False)\n",
    "\n",
    "    top_5_indexes = list(score_series.iloc[1:6].index)\n",
    "    names = list(df.index)\n",
    "    for i in top_5_indexes:\n",
    "        recommended.append(names[i])\n",
    "        \n",
    "    return recommended"
   ]
  },
  {
   "cell_type": "code",
   "execution_count": 8,
   "metadata": {},
   "outputs": [],
   "source": [
    "def next5(x):\n",
    "    nexts = recommendations(x)\n",
    "    printmd('**Current event:** <br>')    \n",
    "    printmd(f\"**{x}** *index:*  {df.loc[x,'id']} <br>*description:*  `{df.loc[x, 'des']} `<br>*keywords:* `{df.loc[x, 'words']}` <br><br>\")\n",
    "    printmd('**Next 5 similar events:** <br>')        \n",
    "    for i in nexts:\n",
    "        printmd(f\"**{i}** *index:*  {df.loc[i,'id']} <br>*description:*  `{df.loc[i, 'des']} `<br>*keywords:* `{df.loc[i, 'words']}` <br> <br>\")"
   ]
  },
  {
   "cell_type": "code",
   "execution_count": 41,
   "metadata": {},
   "outputs": [
    {
     "data": {
      "text/markdown": [
       "**Current event:** <br>"
      ],
      "text/plain": [
       "<IPython.core.display.Markdown object>"
      ]
     },
     "metadata": {},
     "output_type": "display_data"
    },
    {
     "data": {
      "text/markdown": [
       "**Marina Barrage** *index:*  272 <br>*description:*  `That this spot isn't more popular is hard to believe. With a breathtaking 360-degree view of the Marina Bay area and copious amounts of open space not only is it the perfect picnic spot in Singapore but you get a view of all three of the Marina Bay Sands towers the Gardens By The Bay Supertrees and the Domes plus at sunset there's kites of all shapes and sizes unfurled and flapping in the wind. `<br>*keywords:* `flapping shapes marina bay sands towers area kites get domes plus breathtaking 360 degree view wind three sizes unfurled copious amounts supertrees sunset spot believe hard popular perfect picnic open space gardens singapore` <br><br>"
      ],
      "text/plain": [
       "<IPython.core.display.Markdown object>"
      ]
     },
     "metadata": {},
     "output_type": "display_data"
    },
    {
     "data": {
      "text/markdown": [
       "**Next 5 similar events:** <br>"
      ],
      "text/plain": [
       "<IPython.core.display.Markdown object>"
      ]
     },
     "metadata": {},
     "output_type": "display_data"
    },
    {
     "data": {
      "text/markdown": [
       "**Roof Terrace Esplanade** *index:*  271 <br>*description:*  `Who knew that the rooftop of the Esplanade had such a romantic view of the Marina Bay area? Plus if you position yourself right theres the majestic Fullerton Hotel in the backdrop and if all else fails the manicured garden setting makes a good ootd spot. `<br>*keywords:* `backdrop good ootd spot esplanade manicured garden setting makes right theres position majestic fullerton hotel romantic view knew else fails rooftop plus marina bay area` <br> <br>"
      ],
      "text/plain": [
       "<IPython.core.display.Markdown object>"
      ]
     },
     "metadata": {},
     "output_type": "display_data"
    },
    {
     "data": {
      "text/markdown": [
       "**Snap that money shot at Marina Bay Sands** *index:*  26 <br>*description:*  `What is it? Considered as one of Singapores most iconic structures the posh hotel features three floor-to-ceiling windowed towers ascending at 200-metres high. Why go? Besides having the chance to live the high life the Marina Bay Sands also houses some of the citys top restaurants and bars for guests to wine and dine while basking in a birds eye view of Singapore. Alternatively you can snap stunning pictures while taking a dip in the rooftop infinity pool. Dont miss Only hotel guests are allowed access to the rooftop pool so book yourself a room pronto. `<br>*keywords:* `live considered 200 hotel guests bars dont miss metres high wine ceiling windowed towers ascending alternatively rooftop infinity pool allowed access book taking singapores one go life dip besides snap stunning pictures iconic structures marina bay sands also houses chance citys top restaurants posh features three floor dine birds eye view basking room pronto singapore` <br> <br>"
      ],
      "text/plain": [
       "<IPython.core.display.Markdown object>"
      ]
     },
     "metadata": {},
     "output_type": "display_data"
    },
    {
     "data": {
      "text/markdown": [
       "**Make your fortune at the Marina Bay Sands Casino** *index:*  39 <br>*description:*  `What is it? A four-level world-class resort casino housed in the iconic Marina Bay Sands. Why go? With more than 15000 square metres of gaming space the Marina Bay Sands Casino features approximately 600 table games and over 1500 slot machines. Boasting a comprehensive selection of the most popular electronic game machines along with more than 30 private gaming rooms youll have plenty of time to check out all of them as the Casino is open all night long. Dont miss Your passport is needed for you to gain entry so remember to bring it along. Foreigners get free entrance and are also allowed to enter as many times if permissible. If youre staying at the Marina Bay Sands and need a break be sure to head on up to the rooftop deck to admire the gorgeous view of the city skyline. `<br>*keywords:* `bring comprehensive selection passport gain entry four open marina bay sands casino features approximately 600 table games rooftop deck dont miss 30 private gaming rooms youll plenty iconic head admire need popular electronic game machines along enter check go 1500 slot 15000 square metres city skyline sure class resort housed boasting break also allowed many times night long time remember space gorgeous view level world needed permissible youre staying foreigners get free entrance` <br> <br>"
      ],
      "text/plain": [
       "<IPython.core.display.Markdown object>"
      ]
     },
     "metadata": {},
     "output_type": "display_data"
    },
    {
     "data": {
      "text/markdown": [
       "**Go to infinity and beyond** *index:*  261 <br>*description:*  `Relentlessly touted as the world's largest and highest the Marina Bay Sands infinity pool needs no introduction. Perched on the 57th floor of Marina Bay Sands its strategic location allows for unrivalled views of Singapore's glistening cityscape thatll make even the most social media adverse person want to snap a photo. For $20 you can enjoy the unfettered view from the Observation Deck but to actually take a dip in the pool you need to be a hotel guest. So get booking. `<br>*keywords:* `actually take observation deck perched hotel guest strategic location allows largest 20 marina bay sands highest need relentlessly touted world dip get booking photo social media adverse person want glistening cityscape thatll make even pool enjoy introduction unrivalled views snap unfettered view infinity needs 57th floor singapore` <br> <br>"
      ],
      "text/plain": [
       "<IPython.core.display.Markdown object>"
      ]
     },
     "metadata": {},
     "output_type": "display_data"
    },
    {
     "data": {
      "text/markdown": [
       "**Marina Barrage Water Playground** *index:*  364 <br>*description:*  `With water gushing up from almost 30 sockets you're guaranteed to get soaked when you run through this fountain. If your family doesnt fancy a wet cool-down on a hot day they can wait underneath the shaded seating area right beside the fountain and enjoy the great view of the Marina Bay skyline. Cap the day off with a picnic on the Green Roof where your kids can dry themselves under the sun. Opening timesMon Wed amp Fri 12.30-9pm Tue Thu Sat amp Sun 9am-9pm. `<br>*keywords:* `get soaked marina bay skyline picnic guaranteed day almost 30 sockets green roof dry shaded seating area right beside cap wait underneath 9pm tue thu sat amp sun 9am run fountain family doesnt fancy hot great view kids water gushing enjoy opening timesmon wed fri 12 wet cool` <br> <br>"
      ],
      "text/plain": [
       "<IPython.core.display.Markdown object>"
      ]
     },
     "metadata": {},
     "output_type": "display_data"
    }
   ],
   "source": [
    "rand = randint(0,541)\n",
    "x = df.index[rand]\n",
    "next5(x)"
   ]
  }
 ],
 "metadata": {
  "kernelspec": {
   "display_name": "Python 3",
   "language": "python",
   "name": "python3"
  },
  "language_info": {
   "codemirror_mode": {
    "name": "ipython",
    "version": 3
   },
   "file_extension": ".py",
   "mimetype": "text/x-python",
   "name": "python",
   "nbconvert_exporter": "python",
   "pygments_lexer": "ipython3",
   "version": "3.7.4"
  }
 },
 "nbformat": 4,
 "nbformat_minor": 2
}
