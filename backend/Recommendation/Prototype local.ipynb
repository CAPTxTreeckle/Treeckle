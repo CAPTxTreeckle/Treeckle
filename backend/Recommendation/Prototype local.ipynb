{
 "cells": [
  {
   "cell_type": "code",
   "execution_count": 1,
   "metadata": {},
   "outputs": [
    {
     "name": "stdout",
     "output_type": "stream",
     "text": [
      "\u001b[39m\u001b[22mShell for\u001b[39m\u001b[22m \u001b[32m\u001b[1m/home/subbash/.local/share/virtualenvs/Recommendation-AqPCIDG6\u001b[39m\u001b[22m \u001b[39m\u001b[1malready activated.\u001b[39m\u001b[22m\r\n",
      "No action taken to avoid nested environments.\r\n",
      "\u001b[0m"
     ]
    }
   ],
   "source": [
    "!pipenv shell"
   ]
  },
  {
   "cell_type": "code",
   "execution_count": 1,
   "metadata": {},
   "outputs": [],
   "source": [
    "import scrapy\n",
    "import requests\n",
    "from scrapy.http import TextResponse\n",
    "from scrapy import Selector\n",
    "import csv\n",
    "import pandas as pd\n",
    "from rake_nltk import Rake\n",
    "import numpy as np\n",
    "import html\n",
    "import xml\n",
    "import re\n",
    "import string\n",
    "from sklearn.metrics.pairwise import cosine_similarity\n",
    "from sklearn.feature_extraction.text import CountVectorizer, TfidfVectorizer\n",
    "from random import randint"
   ]
  },
  {
   "cell_type": "code",
   "execution_count": 2,
   "metadata": {},
   "outputs": [],
   "source": [
    "from IPython.display import Markdown, display\n",
    "def printmd(string):\n",
    "    display(Markdown(string))"
   ]
  },
  {
   "cell_type": "code",
   "execution_count": 4,
   "metadata": {},
   "outputs": [
    {
     "name": "stdout",
     "output_type": "stream",
     "text": [
      "/bin/sh: 1: :wq: not found\r\n"
     ]
    }
   ],
   "source": []
  },
  {
   "cell_type": "markdown",
   "metadata": {
    "heading_collapsed": true
   },
   "source": [
    "# Events"
   ]
  },
  {
   "cell_type": "code",
   "execution_count": 1,
   "metadata": {},
   "outputs": [],
   "source": [
    "import wikipedia"
   ]
  },
  {
   "cell_type": "code",
   "execution_count": 15,
   "metadata": {},
   "outputs": [],
   "source": [
    "id = \"asdfasd\"\n",
    "title = \"clubbing tonight\""
   ]
  },
  {
   "cell_type": "code",
   "execution_count": 16,
   "metadata": {},
   "outputs": [
    {
     "name": "stdout",
     "output_type": "stream",
     "text": [
      "Page id \"climbing tonight\" does not match any pages. Try another id!\n",
      "\n"
     ]
    }
   ],
   "source": [
    "summary = \"\"\n",
    "try:\n",
    "    summary = wikipedia.summary(title)\n",
    "except wikipedia.exceptions.DisambiguationError as e:\n",
    "    options = (e.options)\n",
    "    if options:\n",
    "        print(options)\n",
    "        #summary = wikipedia.summary(options[0])\n",
    "except wikipedia.exceptions.PageError as e:\n",
    "    print(e)\n",
    "print(summary)"
   ]
  },
  {
   "cell_type": "code",
   "execution_count": 196,
   "metadata": {},
   "outputs": [],
   "source": [
    "write = [[id, summary]]"
   ]
  },
  {
   "cell_type": "code",
   "execution_count": 197,
   "metadata": {},
   "outputs": [],
   "source": [
    "with open('events.csv', 'a', encoding='utf-8') as f:\n",
    "    writer = csv.writer(f, delimiter=',')\n",
    "    writer.writerows(write)"
   ]
  },
  {
   "cell_type": "code",
   "execution_count": 198,
   "metadata": {},
   "outputs": [
    {
     "data": {
      "text/html": [
       "<div>\n",
       "<style scoped>\n",
       "    .dataframe tbody tr th:only-of-type {\n",
       "        vertical-align: middle;\n",
       "    }\n",
       "\n",
       "    .dataframe tbody tr th {\n",
       "        vertical-align: top;\n",
       "    }\n",
       "\n",
       "    .dataframe thead th {\n",
       "        text-align: right;\n",
       "    }\n",
       "</style>\n",
       "<table border=\"1\" class=\"dataframe\">\n",
       "  <thead>\n",
       "    <tr style=\"text-align: right;\">\n",
       "      <th></th>\n",
       "      <th>des</th>\n",
       "      <th>pair</th>\n",
       "    </tr>\n",
       "    <tr>\n",
       "      <th>id</th>\n",
       "      <th></th>\n",
       "      <th></th>\n",
       "    </tr>\n",
       "  </thead>\n",
       "  <tbody>\n",
       "    <tr>\n",
       "      <td>awv321</td>\n",
       "      <td>Running is a method of terrestrial locomotion ...</td>\n",
       "      <td>NaN</td>\n",
       "    </tr>\n",
       "    <tr>\n",
       "      <td>awv321</td>\n",
       "      <td>A pizza party is a social gathering at which p...</td>\n",
       "      <td>NaN</td>\n",
       "    </tr>\n",
       "    <tr>\n",
       "      <td>awq321</td>\n",
       "      <td>A pizza party is a social gathering at which p...</td>\n",
       "      <td>NaN</td>\n",
       "    </tr>\n",
       "    <tr>\n",
       "      <td>gfq321</td>\n",
       "      <td>Poetry (the term derives from a variant of the...</td>\n",
       "      <td>NaN</td>\n",
       "    </tr>\n",
       "    <tr>\n",
       "      <td>asdfasd</td>\n",
       "      <td>Toastmasters International (TI) is a US headqu...</td>\n",
       "      <td>NaN</td>\n",
       "    </tr>\n",
       "  </tbody>\n",
       "</table>\n",
       "</div>"
      ],
      "text/plain": [
       "                                                       des  pair\n",
       "id                                                              \n",
       "awv321   Running is a method of terrestrial locomotion ...   NaN\n",
       "awv321   A pizza party is a social gathering at which p...   NaN\n",
       "awq321   A pizza party is a social gathering at which p...   NaN\n",
       "gfq321   Poetry (the term derives from a variant of the...   NaN\n",
       "asdfasd  Toastmasters International (TI) is a US headqu...   NaN"
      ]
     },
     "execution_count": 198,
     "metadata": {},
     "output_type": "execute_result"
    }
   ],
   "source": [
    "df = pd.read_csv('events.csv', encoding='latin-1')\n",
    "df.set_index('id', inplace = True)\n",
    "df.tail()"
   ]
  },
  {
   "cell_type": "code",
   "execution_count": 199,
   "metadata": {},
   "outputs": [
    {
     "name": "stdout",
     "output_type": "stream",
     "text": [
      "8\n"
     ]
    },
    {
     "data": {
      "text/html": [
       "<div>\n",
       "<style scoped>\n",
       "    .dataframe tbody tr th:only-of-type {\n",
       "        vertical-align: middle;\n",
       "    }\n",
       "\n",
       "    .dataframe tbody tr th {\n",
       "        vertical-align: top;\n",
       "    }\n",
       "\n",
       "    .dataframe thead th {\n",
       "        text-align: right;\n",
       "    }\n",
       "</style>\n",
       "<table border=\"1\" class=\"dataframe\">\n",
       "  <thead>\n",
       "    <tr style=\"text-align: right;\">\n",
       "      <th></th>\n",
       "      <th>des</th>\n",
       "      <th>pair</th>\n",
       "    </tr>\n",
       "    <tr>\n",
       "      <th>id</th>\n",
       "      <th></th>\n",
       "      <th></th>\n",
       "    </tr>\n",
       "  </thead>\n",
       "  <tbody>\n",
       "    <tr>\n",
       "      <td>qwe123</td>\n",
       "      <td>Zumba is an exercise fitness program created b...</td>\n",
       "      <td>NaN</td>\n",
       "    </tr>\n",
       "    <tr>\n",
       "      <td>qwe321</td>\n",
       "      <td>The ABC Sunday Night Movie is a television pro...</td>\n",
       "      <td>NaN</td>\n",
       "    </tr>\n",
       "    <tr>\n",
       "      <td>qwv321</td>\n",
       "      <td>Halloween or Hallowe'en (a contraction of Hall...</td>\n",
       "      <td>NaN</td>\n",
       "    </tr>\n",
       "    <tr>\n",
       "      <td>awv321</td>\n",
       "      <td>Running is a method of terrestrial locomotion ...</td>\n",
       "      <td>NaN</td>\n",
       "    </tr>\n",
       "    <tr>\n",
       "      <td>awv321</td>\n",
       "      <td>A pizza party is a social gathering at which p...</td>\n",
       "      <td>NaN</td>\n",
       "    </tr>\n",
       "  </tbody>\n",
       "</table>\n",
       "</div>"
      ],
      "text/plain": [
       "                                                      des  pair\n",
       "id                                                             \n",
       "qwe123  Zumba is an exercise fitness program created b...   NaN\n",
       "qwe321  The ABC Sunday Night Movie is a television pro...   NaN\n",
       "qwv321  Halloween or Hallowe'en (a contraction of Hall...   NaN\n",
       "awv321  Running is a method of terrestrial locomotion ...   NaN\n",
       "awv321  A pizza party is a social gathering at which p...   NaN"
      ]
     },
     "execution_count": 199,
     "metadata": {},
     "output_type": "execute_result"
    }
   ],
   "source": [
    "char_num = set('0123456789abcdefghijklmnopqrstuvwxyzABCDEFGHIJKLMNOPQRSTUVWXYZ!?$\"\\'()+-*/ .')\n",
    "\n",
    "def just_text(text):\n",
    "    text = ''.join(filter(lambda x: x in char_num, text)).strip()\n",
    "    return re.sub(' +', ' ',text)\n",
    "\n",
    "df['des'] = df['des'].map(just_text)\n",
    "\n",
    "print(len(df))\n",
    "df.head()"
   ]
  },
  {
   "cell_type": "code",
   "execution_count": 200,
   "metadata": {},
   "outputs": [],
   "source": [
    "def keywords(x):\n",
    "    r = Rake()\n",
    "    r.extract_keywords_from_text(x)\n",
    "    return ' '.join(list(r.get_word_degrees().keys()))\n",
    "\n",
    "df['words'] = df['des'].map(keywords)"
   ]
  },
  {
   "cell_type": "code",
   "execution_count": 201,
   "metadata": {},
   "outputs": [
    {
     "data": {
      "text/html": [
       "<div>\n",
       "<style scoped>\n",
       "    .dataframe tbody tr th:only-of-type {\n",
       "        vertical-align: middle;\n",
       "    }\n",
       "\n",
       "    .dataframe tbody tr th {\n",
       "        vertical-align: top;\n",
       "    }\n",
       "\n",
       "    .dataframe thead th {\n",
       "        text-align: right;\n",
       "    }\n",
       "</style>\n",
       "<table border=\"1\" class=\"dataframe\">\n",
       "  <thead>\n",
       "    <tr style=\"text-align: right;\">\n",
       "      <th></th>\n",
       "      <th>des</th>\n",
       "      <th>pair</th>\n",
       "      <th>words</th>\n",
       "    </tr>\n",
       "    <tr>\n",
       "      <th>id</th>\n",
       "      <th></th>\n",
       "      <th></th>\n",
       "      <th></th>\n",
       "    </tr>\n",
       "  </thead>\n",
       "  <tbody>\n",
       "    <tr>\n",
       "      <td>qwe123</td>\n",
       "      <td>Zumba is an exercise fitness program created b...</td>\n",
       "      <td>NaN</td>\n",
       "      <td>zumba fitness llc colombian dancer prez exerci...</td>\n",
       "    </tr>\n",
       "    <tr>\n",
       "      <td>qwe321</td>\n",
       "      <td>The ABC Sunday Night Movie is a television pro...</td>\n",
       "      <td>NaN</td>\n",
       "      <td>hallmark hall fame moved exclusively 1998 2014...</td>\n",
       "    </tr>\n",
       "    <tr>\n",
       "      <td>qwv321</td>\n",
       "      <td>Halloween or Hallowe'en (a contraction of Hall...</td>\n",
       "      <td>NaN</td>\n",
       "      <td>celebration observed contraction western chris...</td>\n",
       "    </tr>\n",
       "    <tr>\n",
       "      <td>awv321</td>\n",
       "      <td>Running is a method of terrestrial locomotion ...</td>\n",
       "      <td>NaN</td>\n",
       "      <td>competitive running grew always legs feet abil...</td>\n",
       "    </tr>\n",
       "    <tr>\n",
       "      <td>awv321</td>\n",
       "      <td>A pizza party is a social gathering at which p...</td>\n",
       "      <td>NaN</td>\n",
       "      <td>14 inches wide vegetable toppings one particul...</td>\n",
       "    </tr>\n",
       "    <tr>\n",
       "      <td>awq321</td>\n",
       "      <td>A pizza party is a social gathering at which p...</td>\n",
       "      <td>NaN</td>\n",
       "      <td>14 inches wide vegetable toppings one particul...</td>\n",
       "    </tr>\n",
       "    <tr>\n",
       "      <td>gfq321</td>\n",
       "      <td>Poetry (the term derives from a variant of the...</td>\n",
       "      <td>NaN</td>\n",
       "      <td>biblical poetry uses chinese shijing incantato...</td>\n",
       "    </tr>\n",
       "    <tr>\n",
       "      <td>asdfasd</td>\n",
       "      <td>Toastmasters International (TI) is a US headqu...</td>\n",
       "      <td>NaN</td>\n",
       "      <td>ti us headquartered nonprofit educational orga...</td>\n",
       "    </tr>\n",
       "  </tbody>\n",
       "</table>\n",
       "</div>"
      ],
      "text/plain": [
       "                                                       des  pair  \\\n",
       "id                                                                 \n",
       "qwe123   Zumba is an exercise fitness program created b...   NaN   \n",
       "qwe321   The ABC Sunday Night Movie is a television pro...   NaN   \n",
       "qwv321   Halloween or Hallowe'en (a contraction of Hall...   NaN   \n",
       "awv321   Running is a method of terrestrial locomotion ...   NaN   \n",
       "awv321   A pizza party is a social gathering at which p...   NaN   \n",
       "awq321   A pizza party is a social gathering at which p...   NaN   \n",
       "gfq321   Poetry (the term derives from a variant of the...   NaN   \n",
       "asdfasd  Toastmasters International (TI) is a US headqu...   NaN   \n",
       "\n",
       "                                                     words  \n",
       "id                                                          \n",
       "qwe123   zumba fitness llc colombian dancer prez exerci...  \n",
       "qwe321   hallmark hall fame moved exclusively 1998 2014...  \n",
       "qwv321   celebration observed contraction western chris...  \n",
       "awv321   competitive running grew always legs feet abil...  \n",
       "awv321   14 inches wide vegetable toppings one particul...  \n",
       "awq321   14 inches wide vegetable toppings one particul...  \n",
       "gfq321   biblical poetry uses chinese shijing incantato...  \n",
       "asdfasd  ti us headquartered nonprofit educational orga...  "
      ]
     },
     "execution_count": 201,
     "metadata": {},
     "output_type": "execute_result"
    }
   ],
   "source": [
    "df"
   ]
  },
  {
   "cell_type": "code",
   "execution_count": 239,
   "metadata": {},
   "outputs": [],
   "source": [
    "df.to_csv('clean_data.csv')\n",
    "df = pd.read_csv('clean_data.csv', encoding='latin-1')\n",
    "df['internal_id'] = df.index\n",
    "#df.set_index('internal_id', inplace = True)\n",
    "df.to_csv('clean_data.csv')"
   ]
  },
  {
   "cell_type": "code",
   "execution_count": 240,
   "metadata": {},
   "outputs": [
    {
     "data": {
      "text/html": [
       "<div>\n",
       "<style scoped>\n",
       "    .dataframe tbody tr th:only-of-type {\n",
       "        vertical-align: middle;\n",
       "    }\n",
       "\n",
       "    .dataframe tbody tr th {\n",
       "        vertical-align: top;\n",
       "    }\n",
       "\n",
       "    .dataframe thead th {\n",
       "        text-align: right;\n",
       "    }\n",
       "</style>\n",
       "<table border=\"1\" class=\"dataframe\">\n",
       "  <thead>\n",
       "    <tr style=\"text-align: right;\">\n",
       "      <th></th>\n",
       "      <th>internal_id</th>\n",
       "      <th>id</th>\n",
       "      <th>des</th>\n",
       "      <th>pair</th>\n",
       "      <th>words</th>\n",
       "    </tr>\n",
       "  </thead>\n",
       "  <tbody>\n",
       "    <tr>\n",
       "      <td>0</td>\n",
       "      <td>0</td>\n",
       "      <td>qwe123</td>\n",
       "      <td>Zumba is an exercise fitness program created b...</td>\n",
       "      <td>NaN</td>\n",
       "      <td>zumba fitness llc colombian dancer prez exerci...</td>\n",
       "    </tr>\n",
       "    <tr>\n",
       "      <td>1</td>\n",
       "      <td>1</td>\n",
       "      <td>qwe321</td>\n",
       "      <td>The ABC Sunday Night Movie is a television pro...</td>\n",
       "      <td>NaN</td>\n",
       "      <td>hallmark hall fame moved exclusively 1998 2014...</td>\n",
       "    </tr>\n",
       "    <tr>\n",
       "      <td>2</td>\n",
       "      <td>2</td>\n",
       "      <td>qwv321</td>\n",
       "      <td>Halloween or Hallowe'en (a contraction of Hall...</td>\n",
       "      <td>NaN</td>\n",
       "      <td>celebration observed contraction western chris...</td>\n",
       "    </tr>\n",
       "    <tr>\n",
       "      <td>3</td>\n",
       "      <td>3</td>\n",
       "      <td>awv321</td>\n",
       "      <td>Running is a method of terrestrial locomotion ...</td>\n",
       "      <td>NaN</td>\n",
       "      <td>competitive running grew always legs feet abil...</td>\n",
       "    </tr>\n",
       "    <tr>\n",
       "      <td>4</td>\n",
       "      <td>4</td>\n",
       "      <td>awv321</td>\n",
       "      <td>A pizza party is a social gathering at which p...</td>\n",
       "      <td>NaN</td>\n",
       "      <td>14 inches wide vegetable toppings one particul...</td>\n",
       "    </tr>\n",
       "    <tr>\n",
       "      <td>5</td>\n",
       "      <td>5</td>\n",
       "      <td>awq321</td>\n",
       "      <td>A pizza party is a social gathering at which p...</td>\n",
       "      <td>NaN</td>\n",
       "      <td>14 inches wide vegetable toppings one particul...</td>\n",
       "    </tr>\n",
       "    <tr>\n",
       "      <td>6</td>\n",
       "      <td>6</td>\n",
       "      <td>gfq321</td>\n",
       "      <td>Poetry (the term derives from a variant of the...</td>\n",
       "      <td>NaN</td>\n",
       "      <td>biblical poetry uses chinese shijing incantato...</td>\n",
       "    </tr>\n",
       "    <tr>\n",
       "      <td>7</td>\n",
       "      <td>7</td>\n",
       "      <td>asdfasd</td>\n",
       "      <td>Toastmasters International (TI) is a US headqu...</td>\n",
       "      <td>NaN</td>\n",
       "      <td>ti us headquartered nonprofit educational orga...</td>\n",
       "    </tr>\n",
       "  </tbody>\n",
       "</table>\n",
       "</div>"
      ],
      "text/plain": [
       "   internal_id       id                                                des  \\\n",
       "0            0   qwe123  Zumba is an exercise fitness program created b...   \n",
       "1            1   qwe321  The ABC Sunday Night Movie is a television pro...   \n",
       "2            2   qwv321  Halloween or Hallowe'en (a contraction of Hall...   \n",
       "3            3   awv321  Running is a method of terrestrial locomotion ...   \n",
       "4            4   awv321  A pizza party is a social gathering at which p...   \n",
       "5            5   awq321  A pizza party is a social gathering at which p...   \n",
       "6            6   gfq321  Poetry (the term derives from a variant of the...   \n",
       "7            7  asdfasd  Toastmasters International (TI) is a US headqu...   \n",
       "\n",
       "   pair                                              words  \n",
       "0   NaN  zumba fitness llc colombian dancer prez exerci...  \n",
       "1   NaN  hallmark hall fame moved exclusively 1998 2014...  \n",
       "2   NaN  celebration observed contraction western chris...  \n",
       "3   NaN  competitive running grew always legs feet abil...  \n",
       "4   NaN  14 inches wide vegetable toppings one particul...  \n",
       "5   NaN  14 inches wide vegetable toppings one particul...  \n",
       "6   NaN  biblical poetry uses chinese shijing incantato...  \n",
       "7   NaN  ti us headquartered nonprofit educational orga...  "
      ]
     },
     "execution_count": 240,
     "metadata": {},
     "output_type": "execute_result"
    }
   ],
   "source": [
    "df"
   ]
  },
  {
   "cell_type": "code",
   "execution_count": 226,
   "metadata": {},
   "outputs": [],
   "source": [
    "count = CountVectorizer()\n",
    "count_matrix = count.fit_transform(df['words'])"
   ]
  },
  {
   "cell_type": "code",
   "execution_count": 241,
   "metadata": {},
   "outputs": [
    {
     "data": {
      "text/html": [
       "<div>\n",
       "<style scoped>\n",
       "    .dataframe tbody tr th:only-of-type {\n",
       "        vertical-align: middle;\n",
       "    }\n",
       "\n",
       "    .dataframe tbody tr th {\n",
       "        vertical-align: top;\n",
       "    }\n",
       "\n",
       "    .dataframe thead th {\n",
       "        text-align: right;\n",
       "    }\n",
       "</style>\n",
       "<table border=\"1\" class=\"dataframe\">\n",
       "  <thead>\n",
       "    <tr style=\"text-align: right;\">\n",
       "      <th></th>\n",
       "      <th>internal_id</th>\n",
       "      <th>des</th>\n",
       "      <th>pair</th>\n",
       "      <th>words</th>\n",
       "    </tr>\n",
       "    <tr>\n",
       "      <th>id</th>\n",
       "      <th></th>\n",
       "      <th></th>\n",
       "      <th></th>\n",
       "      <th></th>\n",
       "    </tr>\n",
       "  </thead>\n",
       "  <tbody>\n",
       "    <tr>\n",
       "      <td>awv321</td>\n",
       "      <td>3</td>\n",
       "      <td>Running is a method of terrestrial locomotion ...</td>\n",
       "      <td>NaN</td>\n",
       "      <td>competitive running grew always legs feet abil...</td>\n",
       "    </tr>\n",
       "    <tr>\n",
       "      <td>awv321</td>\n",
       "      <td>4</td>\n",
       "      <td>A pizza party is a social gathering at which p...</td>\n",
       "      <td>NaN</td>\n",
       "      <td>14 inches wide vegetable toppings one particul...</td>\n",
       "    </tr>\n",
       "    <tr>\n",
       "      <td>awq321</td>\n",
       "      <td>5</td>\n",
       "      <td>A pizza party is a social gathering at which p...</td>\n",
       "      <td>NaN</td>\n",
       "      <td>14 inches wide vegetable toppings one particul...</td>\n",
       "    </tr>\n",
       "    <tr>\n",
       "      <td>gfq321</td>\n",
       "      <td>6</td>\n",
       "      <td>Poetry (the term derives from a variant of the...</td>\n",
       "      <td>NaN</td>\n",
       "      <td>biblical poetry uses chinese shijing incantato...</td>\n",
       "    </tr>\n",
       "    <tr>\n",
       "      <td>asdfasd</td>\n",
       "      <td>7</td>\n",
       "      <td>Toastmasters International (TI) is a US headqu...</td>\n",
       "      <td>NaN</td>\n",
       "      <td>ti us headquartered nonprofit educational orga...</td>\n",
       "    </tr>\n",
       "  </tbody>\n",
       "</table>\n",
       "</div>"
      ],
      "text/plain": [
       "         internal_id                                                des  pair  \\\n",
       "id                                                                              \n",
       "awv321             3  Running is a method of terrestrial locomotion ...   NaN   \n",
       "awv321             4  A pizza party is a social gathering at which p...   NaN   \n",
       "awq321             5  A pizza party is a social gathering at which p...   NaN   \n",
       "gfq321             6  Poetry (the term derives from a variant of the...   NaN   \n",
       "asdfasd            7  Toastmasters International (TI) is a US headqu...   NaN   \n",
       "\n",
       "                                                     words  \n",
       "id                                                          \n",
       "awv321   competitive running grew always legs feet abil...  \n",
       "awv321   14 inches wide vegetable toppings one particul...  \n",
       "awq321   14 inches wide vegetable toppings one particul...  \n",
       "gfq321   biblical poetry uses chinese shijing incantato...  \n",
       "asdfasd  ti us headquartered nonprofit educational orga...  "
      ]
     },
     "execution_count": 241,
     "metadata": {},
     "output_type": "execute_result"
    }
   ],
   "source": [
    "df.set_index('id', inplace = True)\n",
    "df.tail()"
   ]
  },
  {
   "cell_type": "code",
   "execution_count": 258,
   "metadata": {},
   "outputs": [
    {
     "data": {
      "text/plain": [
       "array([[1.        , 0.02331262, 0.        , 0.        , 0.        ,\n",
       "        0.        , 0.        , 0.05057217],\n",
       "       [0.02331262, 1.        , 0.08064778, 0.03273268, 0.03409972,\n",
       "        0.03409972, 0.03848432, 0.        ],\n",
       "       [0.        , 0.08064778, 1.        , 0.03519758, 0.01375033,\n",
       "        0.01375033, 0.06828085, 0.        ],\n",
       "       [0.        , 0.03273268, 0.03519758, 1.        , 0.04464701,\n",
       "        0.04464701, 0.05374699, 0.        ],\n",
       "       [0.        , 0.03409972, 0.01375033, 0.04464701, 1.        ,\n",
       "        1.        , 0.04199374, 0.        ],\n",
       "       [0.        , 0.03409972, 0.01375033, 0.04464701, 1.        ,\n",
       "        1.        , 0.04199374, 0.        ],\n",
       "       [0.        , 0.03848432, 0.06828085, 0.05374699, 0.04199374,\n",
       "        0.04199374, 1.        , 0.        ],\n",
       "       [0.05057217, 0.        , 0.        , 0.        , 0.        ,\n",
       "        0.        , 0.        , 1.        ]])"
      ]
     },
     "execution_count": 258,
     "metadata": {},
     "output_type": "execute_result"
    }
   ],
   "source": [
    "cosine_sim = cosine_similarity(count_matrix, count_matrix)\n",
    "cosine_sim"
   ]
  },
  {
   "cell_type": "code",
   "execution_count": 259,
   "metadata": {},
   "outputs": [],
   "source": [
    "def recommendations(title, cosine_sim = cosine_sim):\n",
    "    \n",
    "    recommended = []\n",
    "    \n",
    "    idx = df.loc[title, 'internal_id']\n",
    "    score_series = pd.Series(cosine_sim[idx]).sort_values(ascending = False)\n",
    "\n",
    "    top_5_indexes = list(score_series.iloc[1:3].index)\n",
    "    names = list(df.index)\n",
    "    for i in top_5_indexes:\n",
    "        recommended.append(names[i])\n",
    "        \n",
    "    return recommended"
   ]
  },
  {
   "cell_type": "code",
   "execution_count": 260,
   "metadata": {},
   "outputs": [],
   "source": [
    "def next5(x):\n",
    "    nexts = recommendations(x)\n",
    "    print(nexts)\n",
    "    printmd('**Current event:** <br>')    \n",
    "    printmd(f\"**{x}** *index:*  {df.loc[x,'internal_id']} <br>*description:*  `{df.loc[x, 'des']} `<br>*keywords:* `{df.loc[x, 'words']}` <br><br>\")\n",
    "    printmd('**Next 5 similar events:** <br>')        \n",
    "    for i in nexts:\n",
    "        printmd(f\"**{i}** *index:*  {df.loc[i,'internal_id']} <br>*description:*  `{df.loc[i, 'des']} `<br>*keywords:* `{df.loc[i, 'words']}` <br> <br>\")"
   ]
  },
  {
   "cell_type": "code",
   "execution_count": 263,
   "metadata": {},
   "outputs": [
    {
     "name": "stdout",
     "output_type": "stream",
     "text": [
      "['qwe321', 'gfq321']\n"
     ]
    },
    {
     "data": {
      "text/markdown": [
       "**Current event:** <br>"
      ],
      "text/plain": [
       "<IPython.core.display.Markdown object>"
      ]
     },
     "metadata": {},
     "output_type": "display_data"
    },
    {
     "data": {
      "text/markdown": [
       "**qwv321** *index:*  2 <br>*description:*  `Halloween or Hallowe'en (a contraction of Hallows' Even or Hallows' Evening) also known as Allhalloween All Hallows' Eve or All Saints' Eve is a celebration observed in several countries on 31 October the eve of the Western Christian feast of All Hallows' Day. It begins the three-day observance of Allhallowtide the time in the liturgical year dedicated to remembering the dead including saints (hallows) martyrs and all the faithful departed.It is widely believed that many Halloween traditions originated from ancient Celtic harvest festivals particularly the Gaelic festival Samhain that such festivals may have had pagan roots and that Samhain itself was Christianized as Halloween by the early Church. Some believe however that Halloween began solely as a Christian holiday separate from ancient festivals like Samhain.Halloween activities include trick-or-treating (or the related guising and souling) attending Halloween costume parties carving pumpkins into jack-o'-lanterns lighting bonfires apple bobbing divination games playing pranks visiting haunted attractions telling scary stories as well as watching horror films. In many parts of the world the Christian religious observances of All Hallows' Eve including attending church services and lighting candles on the graves of the dead remain popular although elsewhere it is a more commercial and secular celebration. Some Christians historically abstained from meat on All Hallows' Eve a tradition reflected in the eating of certain vegetarian foods on this vigil day including apples potato pancakes and soul cakes. `<br>*keywords:* `celebration observed contraction western christian feast even ancient festivals like samhain certain vegetarian foods attending halloween costume parties carving pumpkins dead including saints graves meat gaelic festival world pagan roots hallowe begins en liturgical year dedicated believe however began solely '- lanterns lighting bonfires apple bobbing divination games playing pranks visiting haunted attractions telling scary stories three eve church services several countries commercial hallows celtic harvest particularly widely believed day observance secular candles religious observances may activities include trick allhalloween christianized faithful departed tradition reflected holiday separate evening martyrs many traditions originated eating time early treating 31 october souling well christians historically abstained remembering remain popular although elsewhere soul cakes watching horror films also known related guising jack vigil apples potato pancakes allhallowtide parts` <br><br>"
      ],
      "text/plain": [
       "<IPython.core.display.Markdown object>"
      ]
     },
     "metadata": {},
     "output_type": "display_data"
    },
    {
     "data": {
      "text/markdown": [
       "**Next 5 similar events:** <br>"
      ],
      "text/plain": [
       "<IPython.core.display.Markdown object>"
      ]
     },
     "metadata": {},
     "output_type": "display_data"
    },
    {
     "data": {
      "text/markdown": [
       "**qwe321** *index:*  1 <br>*description:*  `The ABC Sunday Night Movie is a television program that aired on Sunday nights first for a brief time in 1962 under the title Hollywood Special (although Time magazine lists this version as The Sunday Night Movie) to supposedly replace an open time slot for the TV show Bus Stop which was cancelled after March 1962. It then began airing regularly under its more commonly known title from late 1964 to 1998 on ABC. Since 2004 it has aired sporadically as a special program now titled the ABC Sunday Movie of the Week though as of the 2011-12 television season the only films in this timeslot were aired under the Hallmark Hall of Fame banner which transferred to ABC in that season. However in 2014 The Hallmark Hall of Fame moved exclusively to cable on the Hallmark Channel. As a result of this the Sunday Night Movie is now exclusively relegated to two special holiday movies The Sound of Music every holiday season and The Ten Commandments every Easter.The ABC Sunday Night Movie was replaced in 1998 with The Wonderful World of Disney although the Sunday Night Movie initially continued to air alongside TWWOD for its final season. `<br>*keywords:* `hallmark hall fame moved exclusively 1998 2014 final season channel replaced television program 2011 abc sunday movie special supposedly replace wonderful world disney although night open time slot two holiday movies initially continued relegated sound cancelled 12 began airing regularly version transferred tv show bus stop nights first aired sporadically 1962 however air alongside twwod since 2004 banner music every titled brief ten commandments easter films late 1964 march week though commonly known title cable timeslot result hollywood magazine lists` <br> <br>"
      ],
      "text/plain": [
       "<IPython.core.display.Markdown object>"
      ]
     },
     "metadata": {},
     "output_type": "display_data"
    },
    {
     "data": {
      "text/markdown": [
       "**gfq321** *index:*  6 <br>*description:*  `Poetry (the term derives from a variant of the Greek term poiesis \"making\") is a form of literature that uses aesthetic and rhythmic qualities of languagesuch as phonaesthetics sound symbolism and metreto evoke meanings in addition to or in place of the prosaic ostensible meaning.Poetry has a very long history dating back to prehistorical times with the creation of hunting poetry in Africa and panegyric and elegiac court poetry was developed extensively throughout the history of the empires of the Nile Niger and Volta river valleys. Some of the earliest written poetry in Africa can be found among the Pyramid Texts written during the 25th century BCE while the Epic of Sundiata is one of the most well-known examples of griot court poetry. The earliest Western Asian epic poetry the Epic of Gilgamesh was written in Sumerian. Early poems in the Eurasian continent evolved from folk songs such as the Chinese Shijing or from a need to retell oral epics as with the Sanskrit Vedas Zoroastrian Gathas and the Homeric epics the Iliad and the Odyssey. Ancient Greek attempts to define poetry such as Aristotle's Poetics focused on the uses of speech in rhetoric drama song and comedy. Later attempts concentrated on features such as repetition verse form and rhyme and emphasized the aesthetics which distinguish poetry from more objectively informative prosaic forms of writing.Poetry uses forms and conventions to suggest differential interpretation to words or to evoke emotive responses. Devices such as assonance alliteration onomatopoeia and rhythm are sometimes used to achieve musical or incantatory effects. The use of ambiguity symbolism irony and other stylistic elements of poetic diction often leaves a poem open to multiple interpretations. Similarly figures of speech such as metaphor simile and metonymy create a resonance between otherwise disparate imagesa layering of meanings forming connections previously not perceived. Kindred forms of resonance may exist between individual verses in their patterns of rhyme or rhythm.Some poetry types are specific to particular cultures and genres and respond to characteristics of the language in which the poet writes. Readers accustomed to identifying poetry with Dante Goethe Mickiewicz and Rumi may think of it as written in lines based on rhyme and regular meter there are however traditions such as Biblical poetry that use other means to create rhythm and euphony. Much modern poetry reflects a critique of poetic tradition playing with and testing among other things the principle of euphony itself sometimes altogether forgoing rhyme or set rhythm. In today's increasingly globalized world poets often adapt forms styles and techniques from diverse cultures and languages. `<br>*keywords:* `biblical poetry uses chinese shijing incantatory effects metaphor simile particular cultures rhythmic qualities today known examples 25th century bce means written nile niger greek term poiesis meanings forming connections previously aesthetics objectively informative prosaic forms emphasized later attempts concentrated use readers accustomed similarly figures resonance may exist well repetition verse form earliest western asian epic panegyric languagesuch retell oral epics perceived respond multiple interpretations empires pyramid texts euphony phonaesthetics sound symbolism elegiac court achieve musical things africa prehistorical times otherwise disparate imagesa layering sumerian sundiata folk songs diverse poetics focused eurasian continent evolved comedy techniques create rhythm derives language need aesthetic sometimes altogether forgoing rhyme rumi think words sanskrit vedas zoroastrian gathas types metreto evoke devices emotive responses ancient writing languages long history dating back critique place aristotle suggest differential interpretation kindred poem open patterns specific griot found among ostensible meaning set creation lines based testing dante goethe mickiewicz gilgamesh iliad characteristics literature speech features addition define poet writes one variant distinguish ambiguity irony genres increasingly globalized world poets often adapt styles making \") identifying hunting developed extensively throughout poetic diction leaves used odyssey much modern reflects stylistic elements however traditions regular meter rhetoric drama song individual verses principle early poems tradition playing volta river valleys metonymy assonance alliteration onomatopoeia homeric conventions` <br> <br>"
      ],
      "text/plain": [
       "<IPython.core.display.Markdown object>"
      ]
     },
     "metadata": {},
     "output_type": "display_data"
    }
   ],
   "source": [
    "next5(\"qwv321\")"
   ]
  },
  {
   "cell_type": "markdown",
   "metadata": {
    "heading_collapsed": true
   },
   "source": [
    "# Scraping"
   ]
  },
  {
   "cell_type": "code",
   "execution_count": 85,
   "metadata": {
    "hidden": true
   },
   "outputs": [
    {
     "name": "stdout",
     "output_type": "stream",
     "text": [
      " clean_data.csv   Pipfile\t predict.py\t\t  raw_data.csv\r\n",
      " events.csv\t  Pipfile.lock\t'Prototype local.ipynb'\r\n"
     ]
    }
   ],
   "source": [
    "!ls"
   ]
  },
  {
   "cell_type": "code",
   "execution_count": 5,
   "metadata": {
    "hidden": true
   },
   "outputs": [],
   "source": [
    "res = requests.get('https://www.timeout.com/singapore/restaurants/the-50-best-restaurants-in-singapore')\n",
    "response = TextResponse(res.url, body=res.text, encoding='utf-8')\n",
    "\n",
    "#with open(\"Upcoming Music Festivals And Concerts In Singapore 2019.html\") as f:\n",
    "#    page = f.read()\n",
    "\n",
    "#response = TextResponse('Source', body=page, encoding='utf-8')\n",
    "#response\n"
   ]
  },
  {
   "cell_type": "code",
   "execution_count": 6,
   "metadata": {
    "hidden": true
   },
   "outputs": [],
   "source": [
    "titles1 = response.xpath('//*[@id=\"content\"]/article/div/div[2]/div[1]/div/div/article/div[2]/header/h3/a/text()')\n",
    "#titles1.getall()"
   ]
  },
  {
   "cell_type": "code",
   "execution_count": 7,
   "metadata": {
    "hidden": true
   },
   "outputs": [
    {
     "data": {
      "text/plain": [
       "[<Selector xpath=None data='<html><body><article class=\"listCard ...'>,\n",
       " <Selector xpath=None data='<html><body><article class=\"listCard ...'>,\n",
       " <Selector xpath=None data='<html><body><article class=\"listCard ...'>,\n",
       " <Selector xpath=None data='<html><body><article class=\"listCard ...'>,\n",
       " <Selector xpath=None data='<html><body><article class=\"listCard ...'>,\n",
       " <Selector xpath=None data='<html><body><article class=\"listCard ...'>,\n",
       " <Selector xpath=None data='<html><body><article class=\"listCard ...'>,\n",
       " <Selector xpath=None data='<html><body><article class=\"listCard ...'>,\n",
       " <Selector xpath=None data='<html><body><article class=\"listCard ...'>,\n",
       " <Selector xpath=None data='<html><body><article class=\"listCard ...'>,\n",
       " <Selector xpath=None data='<html><body><article class=\"listCard ...'>,\n",
       " <Selector xpath=None data='<html><body><article class=\"listCard ...'>,\n",
       " <Selector xpath=None data='<html><body><article class=\"listCard ...'>,\n",
       " <Selector xpath=None data='<html><body><article class=\"listCard ...'>,\n",
       " <Selector xpath=None data='<html><body><article class=\"listCard ...'>,\n",
       " <Selector xpath=None data='<html><body><article class=\"listCard ...'>,\n",
       " <Selector xpath=None data='<html><body><article class=\"listCard ...'>,\n",
       " <Selector xpath=None data='<html><body><article class=\"listCard ...'>,\n",
       " <Selector xpath=None data='<html><body><article class=\"listCard ...'>,\n",
       " <Selector xpath=None data='<html><body><article class=\"listCard ...'>,\n",
       " <Selector xpath=None data='<html><body><article class=\"listCard ...'>,\n",
       " <Selector xpath=None data='<html><body><article class=\"listCard ...'>,\n",
       " <Selector xpath=None data='<html><body><article class=\"listCard ...'>,\n",
       " <Selector xpath=None data='<html><body><article class=\"listCard ...'>,\n",
       " <Selector xpath=None data='<html><body><article class=\"listCard ...'>,\n",
       " <Selector xpath=None data='<html><body><article class=\"listCard ...'>,\n",
       " <Selector xpath=None data='<html><body><article class=\"listCard ...'>,\n",
       " <Selector xpath=None data='<html><body><article class=\"listCard ...'>,\n",
       " <Selector xpath=None data='<html><body><article class=\"listCard ...'>,\n",
       " <Selector xpath=None data='<html><body><article class=\"listCard ...'>,\n",
       " <Selector xpath=None data='<html><body><article class=\"listCard ...'>,\n",
       " <Selector xpath=None data='<html><body><article class=\"listCard ...'>,\n",
       " <Selector xpath=None data='<html><body><article class=\"listCard ...'>,\n",
       " <Selector xpath=None data='<html><body><article class=\"listCard ...'>,\n",
       " <Selector xpath=None data='<html><body><article class=\"listCard ...'>,\n",
       " <Selector xpath=None data='<html><body><article class=\"listCard ...'>,\n",
       " <Selector xpath=None data='<html><body><article class=\"listCard ...'>,\n",
       " <Selector xpath=None data='<html><body><article class=\"listCard ...'>,\n",
       " <Selector xpath=None data='<html><body><article class=\"listCard ...'>,\n",
       " <Selector xpath=None data='<html><body><article class=\"listCard ...'>,\n",
       " <Selector xpath=None data='<html><body><article class=\"listCard ...'>,\n",
       " <Selector xpath=None data='<html><body><article class=\"listCard ...'>,\n",
       " <Selector xpath=None data='<html><body><article class=\"listCard ...'>,\n",
       " <Selector xpath=None data='<html><body><article class=\"listCard ...'>,\n",
       " <Selector xpath=None data='<html><body><article class=\"listCard ...'>,\n",
       " <Selector xpath=None data='<html><body><article class=\"listCard ...'>,\n",
       " <Selector xpath=None data='<html><body><article class=\"listCard ...'>,\n",
       " <Selector xpath=None data='<html><body><article class=\"listCard ...'>,\n",
       " <Selector xpath=None data='<html><body><article class=\"listCard ...'>,\n",
       " <Selector xpath=None data='<html><body><article class=\"listCard ...'>,\n",
       " <Selector xpath=None data='<html><body><article class=\"listCard ...'>,\n",
       " <Selector xpath=None data='<html><body><article class=\"listCard ...'>,\n",
       " <Selector xpath=None data='<html><body><article class=\"listCard ...'>,\n",
       " <Selector xpath=None data='<html><body><article class=\"listCard ...'>,\n",
       " <Selector xpath=None data='<html><body><article class=\"listCard ...'>]"
      ]
     },
     "execution_count": 7,
     "metadata": {},
     "output_type": "execute_result"
    }
   ],
   "source": [
    "articles = response.xpath('//*[@id=\"content\"]/article/div/div[2]/div[1]/div/div/article')\n",
    "y = [Selector(text=i.get()) for i in articles]\n",
    "y"
   ]
  },
  {
   "cell_type": "code",
   "execution_count": 8,
   "metadata": {
    "hidden": true
   },
   "outputs": [
    {
     "data": {
      "text/plain": [
       "55"
      ]
     },
     "execution_count": 8,
     "metadata": {},
     "output_type": "execute_result"
    }
   ],
   "source": [
    "des = [i.xpath('//p').getall() for i in y] \n",
    "len(des)"
   ]
  },
  {
   "cell_type": "code",
   "execution_count": 9,
   "metadata": {
    "hidden": true
   },
   "outputs": [
    {
     "data": {
      "text/plain": [
       "55"
      ]
     },
     "execution_count": 9,
     "metadata": {},
     "output_type": "execute_result"
    }
   ],
   "source": [
    "titles2 = [i.xpath('//h3//text()').getall() for i in y] \n",
    "len(titles2)"
   ]
  },
  {
   "cell_type": "code",
   "execution_count": 10,
   "metadata": {
    "hidden": true
   },
   "outputs": [
    {
     "data": {
      "text/plain": [
       "['\\n                    ',\n",
       " '\\n                New Ubin Zhongshan Park\\n            ',\n",
       " '\\n            ']"
      ]
     },
     "execution_count": 10,
     "metadata": {},
     "output_type": "execute_result"
    }
   ],
   "source": [
    "titles2[4]"
   ]
  },
  {
   "cell_type": "code",
   "execution_count": 11,
   "metadata": {
    "hidden": true
   },
   "outputs": [
    {
     "data": {
      "text/plain": [
       "[\"<p>Opening its third outlet on the island and first hotel restaurant, New Ubin Group is quickly solidifying itself as Singapore's zi\\xa0char king. It's built a reputation\\xa0of serving hearty local favourites as well as some unexpected creations you wouldn't usually find at your typical heartland joint. Its most famous dish is\\xa0the USDA Black Angus ‘Choice’ Rib-Eye (from $80/500g) served medium-rare with caramelised\\xa0onions, potato wedges and various sauces but you definitely need to have it with New Ubin's signature Heart Attack Fried Rice, which is fried with beef drippings. Aside from its star creation, other must-tries include the\\xa0Foie Gras Egg Special ($10.50), pan-seared foie gras served with soft boiled eggs sprinkled with truffle salt; mud crabs (from $48/400g) baked with copious amounts of garlic; as well as the Boss Bee Hoon ($12), a wok hei\\xa0bomb of just three simple ingredients: rice vermicelli, egg and chye sim.</p>\"]"
      ]
     },
     "execution_count": 11,
     "metadata": {},
     "output_type": "execute_result"
    }
   ],
   "source": [
    "des[4]"
   ]
  },
  {
   "cell_type": "code",
   "execution_count": 12,
   "metadata": {
    "hidden": true
   },
   "outputs": [
    {
     "data": {
      "text/plain": [
       "['\\n                New Ubin Zhongshan Park\\n            ',\n",
       " 0,\n",
       " \"<p>Opening its third outlet on the island and first hotel restaurant, New Ubin Group is quickly solidifying itself as Singapore's zi\\xa0char king. It's built a reputation\\xa0of serving hearty local favourites as well as some unexpected creations you wouldn't usually find at your typical heartland joint. Its most famous dish is\\xa0the USDA Black Angus ‘Choice’ Rib-Eye (from $80/500g) served medium-rare with caramelised\\xa0onions, potato wedges and various sauces but you definitely need to have it with New Ubin's signature Heart Attack Fried Rice, which is fried with beef drippings. Aside from its star creation, other must-tries include the\\xa0Foie Gras Egg Special ($10.50), pan-seared foie gras served with soft boiled eggs sprinkled with truffle salt; mud crabs (from $48/400g) baked with copious amounts of garlic; as well as the Boss Bee Hoon ($12), a wok hei\\xa0bomb of just three simple ingredients: rice vermicelli, egg and chye sim.</p>\"]"
      ]
     },
     "execution_count": 12,
     "metadata": {},
     "output_type": "execute_result"
    }
   ],
   "source": [
    "write = [[i[1],0,''.join(j)] for i,j in zip(titles2, des) if len(i)>0]\n",
    "write[4]"
   ]
  },
  {
   "cell_type": "code",
   "execution_count": 13,
   "metadata": {
    "hidden": true
   },
   "outputs": [],
   "source": [
    "with open('raw_data.csv', 'a', encoding='utf-8') as f:\n",
    "    writer = csv.writer(f, delimiter=',')\n",
    "    writer.writerows(write)"
   ]
  },
  {
   "cell_type": "markdown",
   "metadata": {
    "heading_collapsed": true
   },
   "source": [
    "# Cleaning"
   ]
  },
  {
   "cell_type": "code",
   "execution_count": 4,
   "metadata": {
    "hidden": true
   },
   "outputs": [
    {
     "data": {
      "text/plain": [
       "50"
      ]
     },
     "execution_count": 4,
     "metadata": {},
     "output_type": "execute_result"
    }
   ],
   "source": [
    "df = pd.read_csv('raw_data.csv', encoding='latin-1')\n",
    "df.tail()\n",
    "len(df)"
   ]
  },
  {
   "cell_type": "code",
   "execution_count": 5,
   "metadata": {
    "hidden": true
   },
   "outputs": [
    {
     "name": "stdout",
     "output_type": "stream",
     "text": [
      "50\n"
     ]
    },
    {
     "data": {
      "text/html": [
       "<div>\n",
       "<style scoped>\n",
       "    .dataframe tbody tr th:only-of-type {\n",
       "        vertical-align: middle;\n",
       "    }\n",
       "\n",
       "    .dataframe tbody tr th {\n",
       "        vertical-align: top;\n",
       "    }\n",
       "\n",
       "    .dataframe thead th {\n",
       "        text-align: right;\n",
       "    }\n",
       "</style>\n",
       "<table border=\"1\" class=\"dataframe\">\n",
       "  <thead>\n",
       "    <tr style=\"text-align: right;\">\n",
       "      <th></th>\n",
       "      <th>title</th>\n",
       "      <th>cat</th>\n",
       "      <th>des</th>\n",
       "    </tr>\n",
       "  </thead>\n",
       "  <tbody>\n",
       "    <tr>\n",
       "      <td>0</td>\n",
       "      <td>Jam at Siri House</td>\n",
       "      <td>0</td>\n",
       "      <td>&lt;p&gt;EverÂ wondered what it'd be like to dine in...</td>\n",
       "    </tr>\n",
       "    <tr>\n",
       "      <td>1</td>\n",
       "      <td>Bar Cicheti</td>\n",
       "      <td>0</td>\n",
       "      <td>&lt;p&gt;Can a Singaporean chef â who's never even...</td>\n",
       "    </tr>\n",
       "    <tr>\n",
       "      <td>2</td>\n",
       "      <td>Cheek Bistro</td>\n",
       "      <td>0</td>\n",
       "      <td>&lt;p&gt;Three years, one Michelin star and plenty o...</td>\n",
       "    </tr>\n",
       "    <tr>\n",
       "      <td>3</td>\n",
       "      <td>Restaurant Zn</td>\n",
       "      <td>0</td>\n",
       "      <td>&lt;p&gt;Priced at $450 for dinner, ZÃ©n is one of t...</td>\n",
       "    </tr>\n",
       "    <tr>\n",
       "      <td>4</td>\n",
       "      <td>New Ubin Zhongshan Park</td>\n",
       "      <td>0</td>\n",
       "      <td>&lt;p&gt;Opening its third outlet on the island and ...</td>\n",
       "    </tr>\n",
       "  </tbody>\n",
       "</table>\n",
       "</div>"
      ],
      "text/plain": [
       "                     title  cat  \\\n",
       "0        Jam at Siri House    0   \n",
       "1              Bar Cicheti    0   \n",
       "2             Cheek Bistro    0   \n",
       "3            Restaurant Zn    0   \n",
       "4  New Ubin Zhongshan Park    0   \n",
       "\n",
       "                                                 des  \n",
       "0  <p>EverÂ wondered what it'd be like to dine in...  \n",
       "1  <p>Can a Singaporean chef â who's never even...  \n",
       "2  <p>Three years, one Michelin star and plenty o...  \n",
       "3  <p>Priced at $450 for dinner, ZÃ©n is one of t...  \n",
       "4  <p>Opening its third outlet on the island and ...  "
      ]
     },
     "execution_count": 5,
     "metadata": {},
     "output_type": "execute_result"
    }
   ],
   "source": [
    "char_num = set('0123456789abcdefghijklmnopqrstuvwxyzABCDEFGHIJKLMNOPQRSTUVWXYZ!?$\"\\'()+-*/ .')\n",
    "\n",
    "def just_text(text):\n",
    "    text = ''.join(filter(lambda x: x in char_num, text)).strip()\n",
    "    return re.sub(' +', ' ',text)\n",
    "\n",
    "df['title'] = df['title'].map(just_text)\n",
    "df.drop_duplicates(subset='title', keep='first', inplace=True)\n",
    "\n",
    "print(len(df))\n",
    "df.head()"
   ]
  },
  {
   "cell_type": "code",
   "execution_count": 6,
   "metadata": {
    "hidden": true
   },
   "outputs": [],
   "source": [
    "df.set_index('title', inplace = True)\n",
    "\n",
    "#df.reset_index(inplace = True)"
   ]
  },
  {
   "cell_type": "code",
   "execution_count": 7,
   "metadata": {
    "hidden": true
   },
   "outputs": [
    {
     "name": "stdout",
     "output_type": "stream",
     "text": [
      "50\n"
     ]
    },
    {
     "data": {
      "text/html": [
       "<div>\n",
       "<style scoped>\n",
       "    .dataframe tbody tr th:only-of-type {\n",
       "        vertical-align: middle;\n",
       "    }\n",
       "\n",
       "    .dataframe tbody tr th {\n",
       "        vertical-align: top;\n",
       "    }\n",
       "\n",
       "    .dataframe thead th {\n",
       "        text-align: right;\n",
       "    }\n",
       "</style>\n",
       "<table border=\"1\" class=\"dataframe\">\n",
       "  <thead>\n",
       "    <tr style=\"text-align: right;\">\n",
       "      <th></th>\n",
       "      <th>cat</th>\n",
       "      <th>des</th>\n",
       "    </tr>\n",
       "    <tr>\n",
       "      <th>title</th>\n",
       "      <th></th>\n",
       "      <th></th>\n",
       "    </tr>\n",
       "  </thead>\n",
       "  <tbody>\n",
       "    <tr>\n",
       "      <td>Jam at Siri House</td>\n",
       "      <td>0</td>\n",
       "      <td>&lt;p&gt;EverÂ wondered what it'd be like to dine in...</td>\n",
       "    </tr>\n",
       "    <tr>\n",
       "      <td>Bar Cicheti</td>\n",
       "      <td>0</td>\n",
       "      <td>&lt;p&gt;Can a Singaporean chef â who's never even...</td>\n",
       "    </tr>\n",
       "    <tr>\n",
       "      <td>Cheek Bistro</td>\n",
       "      <td>0</td>\n",
       "      <td>&lt;p&gt;Three years, one Michelin star and plenty o...</td>\n",
       "    </tr>\n",
       "    <tr>\n",
       "      <td>Restaurant Zn</td>\n",
       "      <td>0</td>\n",
       "      <td>&lt;p&gt;Priced at $450 for dinner, ZÃ©n is one of t...</td>\n",
       "    </tr>\n",
       "    <tr>\n",
       "      <td>New Ubin Zhongshan Park</td>\n",
       "      <td>0</td>\n",
       "      <td>&lt;p&gt;Opening its third outlet on the island and ...</td>\n",
       "    </tr>\n",
       "  </tbody>\n",
       "</table>\n",
       "</div>"
      ],
      "text/plain": [
       "                         cat  \\\n",
       "title                          \n",
       "Jam at Siri House          0   \n",
       "Bar Cicheti                0   \n",
       "Cheek Bistro               0   \n",
       "Restaurant Zn              0   \n",
       "New Ubin Zhongshan Park    0   \n",
       "\n",
       "                                                                       des  \n",
       "title                                                                       \n",
       "Jam at Siri House        <p>EverÂ wondered what it'd be like to dine in...  \n",
       "Bar Cicheti              <p>Can a Singaporean chef â who's never even...  \n",
       "Cheek Bistro             <p>Three years, one Michelin star and plenty o...  \n",
       "Restaurant Zn            <p>Priced at $450 for dinner, ZÃ©n is one of t...  \n",
       "New Ubin Zhongshan Park  <p>Opening its third outlet on the island and ...  "
      ]
     },
     "execution_count": 7,
     "metadata": {},
     "output_type": "execute_result"
    }
   ],
   "source": [
    "print(len(df))\n",
    "df.head()"
   ]
  },
  {
   "cell_type": "code",
   "execution_count": 8,
   "metadata": {
    "hidden": true
   },
   "outputs": [
    {
     "data": {
      "text/plain": [
       "\"<p>Can a Singaporean chef â\\x80\\x93 who's never even stepped foot in Italy, we might add â\\x80\\x93 make pasta better than the Italians? At Bar Cicheti on Jiak Chuan Road, the answer is yes. The mostly handmade pastas are done fresh by Aun and his team at Bar Cicheti's open kitchen. On its spring menu are creations like the bucatini ($30) a thick and hollow noodle soaks up the fragrant saffron broth it's cooked in and finished with spring peas, seared Hokkaido scallops and citron zest. Another winner is Aun's take on classic Italian pesto: spaghetti ($28) is tossed in a blend of jalapenos and basil before it's twirled together with pistachios, pine nuts and ricotta salata. The small plates are not to be missed too. Lingua di Manzo Tonnato ($18), or braised beef tongue, makes an offal eater out of any non-believer.</p>\""
      ]
     },
     "execution_count": 8,
     "metadata": {},
     "output_type": "execute_result"
    }
   ],
   "source": [
    "df['des']['Bar Cicheti']"
   ]
  },
  {
   "cell_type": "code",
   "execution_count": 9,
   "metadata": {
    "hidden": true
   },
   "outputs": [
    {
     "data": {
      "text/plain": [
       "\" Can a Singaporean chef â\\x80\\x93 who's never even stepped foot in Italy, we might add â\\x80\\x93 make pasta better than the Italians? At Bar Cicheti on Jiak Chuan Road, the answer is yes. The mostly handmade pastas are done fresh by Aun and his team at Bar Cicheti's open kitchen. On its spring menu are creations like the bucatini ($30) a thick and hollow noodle soaks up the fragrant saffron broth it's cooked in and finished with spring peas, seared Hokkaido scallops and citron zest. Another winner is Aun's take on classic Italian pesto: spaghetti ($28) is tossed in a blend of jalapenos and basil before it's twirled together with pistachios, pine nuts and ricotta salata. The small plates are not to be missed too. Lingua di Manzo Tonnato ($18), or braised beef tongue, makes an offal eater out of any non-believer. \""
      ]
     },
     "execution_count": 9,
     "metadata": {},
     "output_type": "execute_result"
    }
   ],
   "source": [
    "TAG_RE = re.compile(r'<[^>]+>')\n",
    "\n",
    "def remove_tags(text):\n",
    "    return TAG_RE.sub(' ', text)\n",
    "\n",
    "remove_tags(df['des']['Bar Cicheti'])"
   ]
  },
  {
   "cell_type": "code",
   "execution_count": 10,
   "metadata": {
    "hidden": true
   },
   "outputs": [],
   "source": [
    "df['des'] = df['des'].map(remove_tags)"
   ]
  },
  {
   "cell_type": "code",
   "execution_count": 11,
   "metadata": {
    "hidden": true
   },
   "outputs": [
    {
     "data": {
      "text/plain": [
       "'0123456789abcdefghijklmnopqrstuvwxyzABCDEFGHIJKLMNOPQRSTUVWXYZ!\"#$%&\\'()*+,-./:;<=>?@[\\\\]^_`{|}~ \\t\\n\\r\\x0b\\x0c'"
      ]
     },
     "execution_count": 11,
     "metadata": {},
     "output_type": "execute_result"
    }
   ],
   "source": [
    "string.printable"
   ]
  },
  {
   "cell_type": "code",
   "execution_count": 12,
   "metadata": {
    "hidden": true
   },
   "outputs": [
    {
     "data": {
      "text/plain": [
       "\"Can a Singaporean chef who's never even stepped foot in Italy we might add make pasta better than the Italians? At Bar Cicheti on Jiak Chuan Road the answer is yes. The mostly handmade pastas are done fresh by Aun and his team at Bar Cicheti's open kitchen. On its spring menu are creations like the bucatini ($30) a thick and hollow noodle soaks up the fragrant saffron broth it's cooked in and finished with spring peas seared Hokkaido scallops and citron zest. Another winner is Aun's take on classic Italian pesto spaghetti ($28) is tossed in a blend of jalapenos and basil before it's twirled together with pistachios pine nuts and ricotta salata. The small plates are not to be missed too. Lingua di Manzo Tonnato ($18) or braised beef tongue makes an offal eater out of any non-believer.\""
      ]
     },
     "execution_count": 12,
     "metadata": {},
     "output_type": "execute_result"
    }
   ],
   "source": [
    "just_text(df['des']['Bar Cicheti'])"
   ]
  },
  {
   "cell_type": "code",
   "execution_count": 13,
   "metadata": {
    "hidden": true
   },
   "outputs": [],
   "source": [
    "df['des'] = df['des'].map(just_text)"
   ]
  },
  {
   "cell_type": "code",
   "execution_count": 14,
   "metadata": {
    "hidden": true
   },
   "outputs": [],
   "source": [
    "def keywords(x):\n",
    "    r = Rake()\n",
    "    r.extract_keywords_from_text(x)\n",
    "    return ' '.join(list(r.get_word_degrees().keys()))\n",
    "\n",
    "df['words'] = df['des'].map(keywords)"
   ]
  },
  {
   "cell_type": "code",
   "execution_count": 15,
   "metadata": {
    "hidden": true
   },
   "outputs": [
    {
     "data": {
      "text/html": [
       "<div>\n",
       "<style scoped>\n",
       "    .dataframe tbody tr th:only-of-type {\n",
       "        vertical-align: middle;\n",
       "    }\n",
       "\n",
       "    .dataframe tbody tr th {\n",
       "        vertical-align: top;\n",
       "    }\n",
       "\n",
       "    .dataframe thead th {\n",
       "        text-align: right;\n",
       "    }\n",
       "</style>\n",
       "<table border=\"1\" class=\"dataframe\">\n",
       "  <thead>\n",
       "    <tr style=\"text-align: right;\">\n",
       "      <th></th>\n",
       "      <th>cat</th>\n",
       "      <th>des</th>\n",
       "      <th>words</th>\n",
       "    </tr>\n",
       "    <tr>\n",
       "      <th>title</th>\n",
       "      <th></th>\n",
       "      <th></th>\n",
       "      <th></th>\n",
       "    </tr>\n",
       "  </thead>\n",
       "  <tbody>\n",
       "    <tr>\n",
       "      <td>Restaurant Ibid</td>\n",
       "      <td>0</td>\n",
       "      <td>Its been three years since Woo Wai Leong won t...</td>\n",
       "      <td>finally opened georgette chen blended western ...</td>\n",
       "    </tr>\n",
       "    <tr>\n",
       "      <td>Fat Prince</td>\n",
       "      <td>0</td>\n",
       "      <td>Let Fat Prince show you a whole new world of M...</td>\n",
       "      <td>restaurant focuses spicy beef adana let fat pr...</td>\n",
       "    </tr>\n",
       "    <tr>\n",
       "      <td>Salted and Hung</td>\n",
       "      <td>0</td>\n",
       "      <td>Curing smoking and fermenting are front and ce...</td>\n",
       "      <td>clear pale pink drew nocente manner theres eve...</td>\n",
       "    </tr>\n",
       "    <tr>\n",
       "      <td>Humpback</td>\n",
       "      <td>0</td>\n",
       "      <td>It might not live by the sea but this beach sh...</td>\n",
       "      <td>prawns salmon clams scallops octopus lobster ....</td>\n",
       "    </tr>\n",
       "    <tr>\n",
       "      <td>Skai</td>\n",
       "      <td>0</td>\n",
       "      <td>Perched on the 70th floor of the Swissotel the...</td>\n",
       "      <td>safe favourites professed lover see 10 types m...</td>\n",
       "    </tr>\n",
       "  </tbody>\n",
       "</table>\n",
       "</div>"
      ],
      "text/plain": [
       "                 cat                                                des  \\\n",
       "title                                                                     \n",
       "Restaurant Ibid    0  Its been three years since Woo Wai Leong won t...   \n",
       "Fat Prince         0  Let Fat Prince show you a whole new world of M...   \n",
       "Salted and Hung    0  Curing smoking and fermenting are front and ce...   \n",
       "Humpback           0  It might not live by the sea but this beach sh...   \n",
       "Skai               0  Perched on the 70th floor of the Swissotel the...   \n",
       "\n",
       "                                                             words  \n",
       "title                                                               \n",
       "Restaurant Ibid  finally opened georgette chen blended western ...  \n",
       "Fat Prince       restaurant focuses spicy beef adana let fat pr...  \n",
       "Salted and Hung  clear pale pink drew nocente manner theres eve...  \n",
       "Humpback         prawns salmon clams scallops octopus lobster ....  \n",
       "Skai             safe favourites professed lover see 10 types m...  "
      ]
     },
     "execution_count": 15,
     "metadata": {},
     "output_type": "execute_result"
    }
   ],
   "source": [
    "df.tail()"
   ]
  },
  {
   "cell_type": "code",
   "execution_count": 48,
   "metadata": {
    "hidden": true
   },
   "outputs": [],
   "source": [
    "\n",
    "df.to_csv('clean_data.csv')\n",
    "df = pd.read_csv('clean_data.csv', encoding='latin-1')\n",
    "df['id'] = df.index\n",
    "df.set_index('title', inplace = True)\n",
    "df.to_csv('clean_data.csv')"
   ]
  },
  {
   "cell_type": "markdown",
   "metadata": {},
   "source": [
    "# Cosine Similarity"
   ]
  },
  {
   "cell_type": "code",
   "execution_count": 49,
   "metadata": {},
   "outputs": [],
   "source": [
    "df = pd.read_csv('clean_data.csv', encoding='latin-1')"
   ]
  },
  {
   "cell_type": "code",
   "execution_count": 50,
   "metadata": {
    "scrolled": true
   },
   "outputs": [
    {
     "data": {
      "text/html": [
       "<div>\n",
       "<style scoped>\n",
       "    .dataframe tbody tr th:only-of-type {\n",
       "        vertical-align: middle;\n",
       "    }\n",
       "\n",
       "    .dataframe tbody tr th {\n",
       "        vertical-align: top;\n",
       "    }\n",
       "\n",
       "    .dataframe thead th {\n",
       "        text-align: right;\n",
       "    }\n",
       "</style>\n",
       "<table border=\"1\" class=\"dataframe\">\n",
       "  <thead>\n",
       "    <tr style=\"text-align: right;\">\n",
       "      <th></th>\n",
       "      <th>cat</th>\n",
       "      <th>des</th>\n",
       "      <th>words</th>\n",
       "      <th>id</th>\n",
       "    </tr>\n",
       "    <tr>\n",
       "      <th>title</th>\n",
       "      <th></th>\n",
       "      <th></th>\n",
       "      <th></th>\n",
       "      <th></th>\n",
       "    </tr>\n",
       "  </thead>\n",
       "  <tbody>\n",
       "    <tr>\n",
       "      <td>Restaurant Ibid</td>\n",
       "      <td>0</td>\n",
       "      <td>Its been three years since Woo Wai Leong won t...</td>\n",
       "      <td>touches influenced 78 easternpainting traditio...</td>\n",
       "      <td>45</td>\n",
       "    </tr>\n",
       "    <tr>\n",
       "      <td>Fat Prince</td>\n",
       "      <td>0</td>\n",
       "      <td>Let Fat Prince show you a whole new world of M...</td>\n",
       "      <td>kebabs designed reflect istanbuls opulent caf ...</td>\n",
       "      <td>46</td>\n",
       "    </tr>\n",
       "    <tr>\n",
       "      <td>Salted and Hung</td>\n",
       "      <td>0</td>\n",
       "      <td>Curing smoking and fermenting are front and ce...</td>\n",
       "      <td>much nod curing smoking walls centre theres ev...</td>\n",
       "      <td>47</td>\n",
       "    </tr>\n",
       "    <tr>\n",
       "      <td>Humpback</td>\n",
       "      <td>0</td>\n",
       "      <td>It might not live by the sea but this beach sh...</td>\n",
       "      <td>plates fresh oysters go around ocean beach sha...</td>\n",
       "      <td>48</td>\n",
       "    </tr>\n",
       "    <tr>\n",
       "      <td>Skai</td>\n",
       "      <td>0</td>\n",
       "      <td>Perched on the 70th floor of the Swissotel the...</td>\n",
       "      <td>professed lover civic district stamford skai o...</td>\n",
       "      <td>49</td>\n",
       "    </tr>\n",
       "  </tbody>\n",
       "</table>\n",
       "</div>"
      ],
      "text/plain": [
       "                 cat                                                des  \\\n",
       "title                                                                     \n",
       "Restaurant Ibid    0  Its been three years since Woo Wai Leong won t...   \n",
       "Fat Prince         0  Let Fat Prince show you a whole new world of M...   \n",
       "Salted and Hung    0  Curing smoking and fermenting are front and ce...   \n",
       "Humpback           0  It might not live by the sea but this beach sh...   \n",
       "Skai               0  Perched on the 70th floor of the Swissotel the...   \n",
       "\n",
       "                                                             words  id  \n",
       "title                                                                   \n",
       "Restaurant Ibid  touches influenced 78 easternpainting traditio...  45  \n",
       "Fat Prince       kebabs designed reflect istanbuls opulent caf ...  46  \n",
       "Salted and Hung  much nod curing smoking walls centre theres ev...  47  \n",
       "Humpback         plates fresh oysters go around ocean beach sha...  48  \n",
       "Skai             professed lover civic district stamford skai o...  49  "
      ]
     },
     "execution_count": 50,
     "metadata": {},
     "output_type": "execute_result"
    }
   ],
   "source": [
    "\n",
    "df.set_index('title', inplace = True)\n",
    "df.tail()"
   ]
  },
  {
   "cell_type": "code",
   "execution_count": 51,
   "metadata": {},
   "outputs": [],
   "source": [
    "count = CountVectorizer()\n",
    "count_matrix = count.fit_transform(df['words'])"
   ]
  },
  {
   "cell_type": "code",
   "execution_count": 52,
   "metadata": {},
   "outputs": [
    {
     "data": {
      "text/plain": [
       "array([[1.        , 0.07709083, 0.03405575, ..., 0.01566713, 0.01669219,\n",
       "        0.02900989],\n",
       "       [0.07709083, 1.        , 0.09701425, ..., 0.0334731 , 0.08915787,\n",
       "        0.06198013],\n",
       "       [0.03405575, 0.09701425, 1.        , ..., 0.03450328, 0.11028219,\n",
       "        0.12777531],\n",
       "       ...,\n",
       "       [0.01566713, 0.0334731 , 0.03450328, ..., 1.        , 0.        ,\n",
       "        0.02204334],\n",
       "       [0.01669219, 0.08915787, 0.11028219, ..., 0.        , 1.        ,\n",
       "        0.04697114],\n",
       "       [0.02900989, 0.06198013, 0.12777531, ..., 0.02204334, 0.04697114,\n",
       "        1.        ]])"
      ]
     },
     "execution_count": 52,
     "metadata": {},
     "output_type": "execute_result"
    }
   ],
   "source": [
    "cosine_sim = cosine_similarity(count_matrix, count_matrix)\n",
    "cosine_sim"
   ]
  },
  {
   "cell_type": "code",
   "execution_count": 53,
   "metadata": {},
   "outputs": [],
   "source": [
    "def recommendations(title, cosine_sim = cosine_sim):\n",
    "    \n",
    "    recommended = []\n",
    "    \n",
    "    idx = df.loc[title, 'id']\n",
    "    score_series = pd.Series(cosine_sim[idx]).sort_values(ascending = False)\n",
    "\n",
    "    top_5_indexes = list(score_series.iloc[1:6].index)\n",
    "    names = list(df.index)\n",
    "    for i in top_5_indexes:\n",
    "        recommended.append(names[i])\n",
    "        \n",
    "    return recommended"
   ]
  },
  {
   "cell_type": "code",
   "execution_count": 54,
   "metadata": {},
   "outputs": [],
   "source": [
    "def next5(x):\n",
    "    nexts = recommendations(x)\n",
    "    printmd('**Current event:** <br>')    \n",
    "    printmd(f\"**{x}** *index:*  {df.loc[x,'id']} <br>*description:*  `{df.loc[x, 'des']} `<br>*keywords:* `{df.loc[x, 'words']}` <br><br>\")\n",
    "    printmd('**Next 5 similar events:** <br>')        \n",
    "    for i in nexts:\n",
    "        printmd(f\"**{i}** *index:*  {df.loc[i,'id']} <br>*description:*  `{df.loc[i, 'des']} `<br>*keywords:* `{df.loc[i, 'words']}` <br> <br>\")"
   ]
  },
  {
   "cell_type": "code",
   "execution_count": 57,
   "metadata": {},
   "outputs": [
    {
     "data": {
      "text/markdown": [
       "**Current event:** <br>"
      ],
      "text/plain": [
       "<IPython.core.display.Markdown object>"
      ]
     },
     "metadata": {},
     "output_type": "display_data"
    },
    {
     "data": {
      "text/markdown": [
       "**New Ubin Zhongshan Park** *index:*  4 <br>*description:*  `Opening its third outlet on the island and first hotel restaurant New Ubin Group is quickly solidifying itself as Singapore's zichar king. It's built a reputationof serving hearty local favourites as well as some unexpected creations you wouldn't usually find at your typical heartland joint. Its most famous dish isthe USDA Black Angus Choice Rib-Eye (from $80/500g) served medium-rare with caramelisedonions potato wedges and various sauces but you definitely need to have it with New Ubin's signature Heart Attack Fried Rice which is fried with beef drippings. Aside from its star creation other must-tries include theFoie Gras Egg Special ($10.50) pan-seared foie gras served with soft boiled eggs sprinkled with truffle salt mud crabs (from $48/400g) baked with copious amounts of garlic as well as the Boss Bee Hoon ($12) a wok heibomb of just three simple ingredients rice vermicelli egg and chye sim. `<br>*keywords:* `pan three simple ingredients rice vermicelli egg built 50 80 first hotel restaurant new ubin group third outlet soft boiled eggs sprinkled boss bee hoon ($ 12 garlic wok heibomb island fried 400g eye rare famous dish isthe usda black angus choice rib typical heartland joint baked must reputationof serving hearty local favourites caramelisedonions potato wedges seared foie gras served zichar king chye sim well unexpected creations opening star creation singapore copious amounts various sauces 500g medium quickly solidifying 48 signature heart attack truffle salt mud crabs usually find aside definitely need beef drippings tries include thefoie special 10` <br><br>"
      ],
      "text/plain": [
       "<IPython.core.display.Markdown object>"
      ]
     },
     "metadata": {},
     "output_type": "display_data"
    },
    {
     "data": {
      "text/markdown": [
       "**Next 5 similar events:** <br>"
      ],
      "text/plain": [
       "<IPython.core.display.Markdown object>"
      ]
     },
     "metadata": {},
     "output_type": "display_data"
    },
    {
     "data": {
      "text/markdown": [
       "**Sawadee Thai** *index:*  42 <br>*description:*  `Save yourself from the two-hour flight to Bangkok when cravings strike they're just as easily satisfied at Sawadee Thai. It gets a shipment of fresh Thai produce daily and offers an array of dishes in a relaxed setting. Youll definitely find the standard tom yum soup and mango sticky rice on the menu but why not try something different? Meat lovers will like the pan-seared black Angus beef rib-eye that's served with a homemade green curry sauce and the mao shan wang durian sticky rice dessert is a must. `<br>*keywords:* `pan relaxed setting mango sticky rice wang durian dessert sawadee thai array standard tom yum soup try something different eye bangkok fresh produce daily easily satisfied must save like cravings strike homemade green curry sauce menu two mao offers shipment meat lovers dishes hour flight served seared black angus beef rib gets youll definitely find` <br> <br>"
      ],
      "text/plain": [
       "<IPython.core.display.Markdown object>"
      ]
     },
     "metadata": {},
     "output_type": "display_data"
    },
    {
     "data": {
      "text/markdown": [
       "**Jaan** *index:*  9 <br>*description:*  `With breathtaking views of the Singapore skyline Jaan is an intimate 40-seat restaurant that takes you on a culinary journey to Britain. After three years helming the restaurant chef Kirk Westaway has hit full stride with his latest Reinventing British menu. Aseries of snacks like a fish and chips tart and Britains national dish chicken tikka masala served to the tune of Brit-pop and rock music toset the tone of the meal. Signature mains include the Alaskan langoustine served with courgetteas well as aged roasted pigeon with blackberry beetroot and foie gras. `<br>*keywords:* `courgetteas well culinary journey brit hit full stride fish tune breathtaking views rock music toset foie gras blackberry beetroot britains national dish chicken tikka masala served three years helming latest reinventing british menu pop singapore skyline jaan snacks like signature mains include alaskan langoustine britain seat restaurant takes chef kirk westaway intimate 40 aseries chips tart meal aged roasted pigeon tone` <br> <br>"
      ],
      "text/plain": [
       "<IPython.core.display.Markdown object>"
      ]
     },
     "metadata": {},
     "output_type": "display_data"
    },
    {
     "data": {
      "text/markdown": [
       "**Basque Kitchen by Aitor** *index:*  5 <br>*description:*  `Following his departure from one-Michelin-starred Iggys at the Hilton Singapore chef Aitor Jeronimo Orive has teamed up with powerhouse hotel and restaurant group Unlisted Collection to open Basque Kitchen. Inspired by the cuisine of Basque Country where meats are grilled over hot coals and stews are rustic and hearty he elevates these homey dishes with techniques hes learnt cooking at some of the top restaurants in the world. Lunch is priced from $38 while dinner starts from $85 but we highly recommend the grill tasting menu ($98) that highlights dishes that are cooked on a Josper-made Basque grill. The menu features Kokotxas a traditional dish of desalted cod chin that's slathered in pil-pil a rich sauce made with olive oil back garlic andguindillas(small hot peppers) as well as the Txuletaa showstopping grilled Angus prime rib showered with black truffle. This isn't your ordinary steak chef Aitor specifically uses old cows that can be up to 18 years of age which results in a flavourful albeit slightly less tender. `<br>*keywords:* `techniques hes learnt cooking open basque kitchen small hot peppers inspired cooked made grill highlights dishes slathered black truffle elevates highly recommend josper txuletaa showstopping grilled angus prime rib showered top restaurants priced hilton singapore chef aitor jeronimo orive world dinner starts olive oil back garlic andguindillas country 38 rich sauce coals departure age hearty teamed one stews 85 powerhouse hotel well starred iggys desalted cod chin menu features kokotxas following cuisine ordinary steak specifically uses old cows homey michelin pil 18 years rustic meats traditional dish restaurant group unlisted collection lunch flavourful albeit slightly less tender tasting ($ 98 results` <br> <br>"
      ],
      "text/plain": [
       "<IPython.core.display.Markdown object>"
      ]
     },
     "metadata": {},
     "output_type": "display_data"
    },
    {
     "data": {
      "text/markdown": [
       "**Min Jiang at Dempsey** *index:*  6 <br>*description:*  `First opened in 1982 at Goodwood Park Hotel Min Jiang has long been a stalwart of Chinese cuisine in Singapore. And after 12 years at Rochester Park the brand's second outlet has moved to bigger space on Dempsey Hill decked out in rustic touches made modern like weaved wooden panels rattan chairs and large drop lanterns that emit a warm glow over the dining room. Helming the restaurant is chef Goh Chee Kong who's spent the past 32 years cooking at Min Jiang. He specialises in both Cantonese and Sichuan cuisine producing beautiful plates of dim sum the steamed Goldfish prawn dumpling ($4.80) is extremely Instagrammable as is the pretty deluxe platter ($38) of blue pea truffle vegetable dumpling steamed crabmeat prawn and vegetable dumpling fried glutinous rice golden pumpkin and scallop dumpling. Other highlights on the menu include the braised sea treasure soup in pomegranate egg white parcel ($48) where Australian abalone bamboo pith and dried scallops are poached and wrapped in an egg white skin. There's also the legendary wood-fired Beijing Duck ($118/ordering one day in advance is recommended) carved tableside with eight different condiments. `<br>*keywords:* `1982 blue pea truffle vegetable dumpling steamed crabmeat prawn goodwood park hotel min jiang large drop lanterns also recommended chef goh chee kong extremely instagrammable fried glutinous rice golden pumpkin australian abalone bamboo pith highlights legendary wood 80 ordering one day brand chinese cuisine first opened eight different condiments dining room rochester past 32 years cooking sichuan producing beautiful plates egg white skin specialises restaurant long cantonese braised sea treasure soup spent dim sum carved tableside stalwart second outlet fired beijing duck ($ 118 12 scallop goldfish 4 bigger space menu include advance pomegranate parcel 48 poached singapore wrapped dempsey hill decked rustic touches made modern like weaved wooden panels rattan chairs emit helming pretty deluxe platter 38 dried scallops warm glow moved` <br> <br>"
      ],
      "text/plain": [
       "<IPython.core.display.Markdown object>"
      ]
     },
     "metadata": {},
     "output_type": "display_data"
    },
    {
     "data": {
      "text/markdown": [
       "**Restaurant Zn** *index:*  3 <br>*description:*  `Priced at $450 for dinner Zn is one of the most expensive restaurants in Singapore. But look beyond the eye-watering price tag at chef Bjrn Frantzn first international outpost and you'll find that a meal here is well worth it. Your dinner starts out on the first floor of the three-storey shophouse along trendy Bukit Pasoh with snacks that have been perfected in the kitchen of Swedens first three-Michelin-starred restaurant. Before you proceed to dig into your mains on the second floor you're presented with a table of ingredients that you'd be hard pressed to find in any other restaurant in the city or the region. They go towards making stunning plates like beautifully cooked marron interjected with puffed Koshihikari rice Yukimuro snow-aged wagyu covered with ramson pickled baby pine cones flown in from Russia and the most incredibly balanced dessert of sea buckthorn sorbet served paired with oolong mousse and match meringue. `<br>*keywords:* `match meringue well worth table region kitchen aged wagyu covered look beyond three 450 second floor priced snacks restaurant eye dinner starts swedens first find presented incredibly balanced dessert oolong mousse watering price tag expensive restaurants perfected starred chef bjrn frantzn international outpost hard pressed mains go towards making stunning plates like beautifully cooked marron interjected one zn singapore sea buckthorn sorbet served paired ingredients ramson pickled baby pine cones flown michelin russia proceed meal storey shophouse along trendy bukit pasoh city dig puffed koshihikari rice yukimuro snow` <br> <br>"
      ],
      "text/plain": [
       "<IPython.core.display.Markdown object>"
      ]
     },
     "metadata": {},
     "output_type": "display_data"
    }
   ],
   "source": [
    "rand = randint(0,49)\n",
    "x = df.index[rand]\n",
    "next5(x)"
   ]
  },
  {
   "cell_type": "code",
   "execution_count": null,
   "metadata": {},
   "outputs": [],
   "source": []
  },
  {
   "cell_type": "code",
   "execution_count": null,
   "metadata": {},
   "outputs": [],
   "source": []
  }
 ],
 "metadata": {
  "kernelspec": {
   "display_name": "recommendation",
   "language": "python",
   "name": "recommendation"
  },
  "language_info": {
   "codemirror_mode": {
    "name": "ipython",
    "version": 3
   },
   "file_extension": ".py",
   "mimetype": "text/x-python",
   "name": "python",
   "nbconvert_exporter": "python",
   "pygments_lexer": "ipython3",
   "version": "3.7.4"
  }
 },
 "nbformat": 4,
 "nbformat_minor": 2
}
